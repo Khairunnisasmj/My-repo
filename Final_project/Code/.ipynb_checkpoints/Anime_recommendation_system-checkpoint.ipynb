{
 "cells": [
  {
   "cell_type": "markdown",
   "id": "6eea311f",
   "metadata": {},
   "source": [
    "# Final Project: Anime Recommendation System"
   ]
  },
  {
   "cell_type": "markdown",
   "id": "2305845d",
   "metadata": {},
   "source": [
    "**OVERVIEW**"
   ]
  },
  {
   "cell_type": "markdown",
   "id": "c6027bcb",
   "metadata": {},
   "source": [
    "**Recommendation systems** are widely used nowadays in this advanced century where quite a number of big companies applied them to improve their ratings and user satisfaction such as Youtube, Netfix, Amazon, Facebook etc. Netflix even offered a million dollars in 2009 to anyone who could improve its system by 10%.\n",
    "\n",
    "\n",
    "Recommendation system can be classified into 3 groups:-\n",
    "\n",
    "**1- SIMPLE RECOMMENDER SYSTEM**\n",
    "\n",
    "**2- CONTENT-BASED RECOMMENDER SYSTEM**\n",
    "\n",
    "**3- COLLABORATIVE FILTERING ENGINE**\n",
    "\n",
    "\n",
    "In this project, I will build an Anime Recommendation System by using **content-based recommender** based on [here](https://www.kaggle.com/CooperUnion/anime-recommendations-database) database (anime.csv)."
   ]
  },
  {
   "cell_type": "markdown",
   "id": "8a90e63a",
   "metadata": {},
   "source": [
    "**DATA DICTIONARY**:\n",
    "\n",
    "**anime_id** - Anime's unique identification code.\n",
    "\n",
    "**title** - fThe title of anime.\n",
    "\n",
    "**genre** - List of genre.\n",
    "\n",
    "**type** - Movie, TV, OVA, etc.\n",
    "\n",
    "**episodes** - Number of episodes of the anime (1 for movies).\n",
    "\n",
    "**avg_rating** - Average rating out of 10 for the anime.\n",
    "\n",
    "**members** - Number of people in the anime's community group.\n"
   ]
  },
  {
   "cell_type": "markdown",
   "id": "ca514bd7",
   "metadata": {},
   "source": [
    "**1) Importing necessary packages** and reading dataset"
   ]
  },
  {
   "cell_type": "code",
   "execution_count": 2,
   "id": "a8c834e5",
   "metadata": {},
   "outputs": [],
   "source": [
    "import pandas as pd\n",
    "import numpy as np\n",
    "import matplotlib.pyplot as plt\n",
    "\n",
    "%matplotlib inline\n",
    "\n",
    "import re \n",
    "#for renaming the titles\n",
    "\n",
    "from sklearn.feature_extraction.text import TfidfVectorizer\n",
    "#for converting text into token counts\n",
    "\n",
    "from sklearn.metrics.pairwise import cosine_similarity\n",
    "#for calculating the similarity score"
   ]
  },
  {
   "cell_type": "code",
   "execution_count": 3,
   "id": "7e56f56b",
   "metadata": {},
   "outputs": [
    {
     "data": {
      "text/html": [
       "<div>\n",
       "<style scoped>\n",
       "    .dataframe tbody tr th:only-of-type {\n",
       "        vertical-align: middle;\n",
       "    }\n",
       "\n",
       "    .dataframe tbody tr th {\n",
       "        vertical-align: top;\n",
       "    }\n",
       "\n",
       "    .dataframe thead th {\n",
       "        text-align: right;\n",
       "    }\n",
       "</style>\n",
       "<table border=\"1\" class=\"dataframe\">\n",
       "  <thead>\n",
       "    <tr style=\"text-align: right;\">\n",
       "      <th></th>\n",
       "      <th>anime_id</th>\n",
       "      <th>name</th>\n",
       "      <th>genre</th>\n",
       "      <th>type</th>\n",
       "      <th>episodes</th>\n",
       "      <th>rating</th>\n",
       "      <th>members</th>\n",
       "    </tr>\n",
       "  </thead>\n",
       "  <tbody>\n",
       "    <tr>\n",
       "      <th>0</th>\n",
       "      <td>32281</td>\n",
       "      <td>Kimi no Na wa.</td>\n",
       "      <td>Drama, Romance, School, Supernatural</td>\n",
       "      <td>Movie</td>\n",
       "      <td>1</td>\n",
       "      <td>9.37</td>\n",
       "      <td>200630</td>\n",
       "    </tr>\n",
       "    <tr>\n",
       "      <th>1</th>\n",
       "      <td>5114</td>\n",
       "      <td>Fullmetal Alchemist: Brotherhood</td>\n",
       "      <td>Action, Adventure, Drama, Fantasy, Magic, Mili...</td>\n",
       "      <td>TV</td>\n",
       "      <td>64</td>\n",
       "      <td>9.26</td>\n",
       "      <td>793665</td>\n",
       "    </tr>\n",
       "    <tr>\n",
       "      <th>2</th>\n",
       "      <td>28977</td>\n",
       "      <td>Gintama°</td>\n",
       "      <td>Action, Comedy, Historical, Parody, Samurai, S...</td>\n",
       "      <td>TV</td>\n",
       "      <td>51</td>\n",
       "      <td>9.25</td>\n",
       "      <td>114262</td>\n",
       "    </tr>\n",
       "    <tr>\n",
       "      <th>3</th>\n",
       "      <td>9253</td>\n",
       "      <td>Steins;Gate</td>\n",
       "      <td>Sci-Fi, Thriller</td>\n",
       "      <td>TV</td>\n",
       "      <td>24</td>\n",
       "      <td>9.17</td>\n",
       "      <td>673572</td>\n",
       "    </tr>\n",
       "    <tr>\n",
       "      <th>4</th>\n",
       "      <td>9969</td>\n",
       "      <td>Gintama&amp;#039;</td>\n",
       "      <td>Action, Comedy, Historical, Parody, Samurai, S...</td>\n",
       "      <td>TV</td>\n",
       "      <td>51</td>\n",
       "      <td>9.16</td>\n",
       "      <td>151266</td>\n",
       "    </tr>\n",
       "  </tbody>\n",
       "</table>\n",
       "</div>"
      ],
      "text/plain": [
       "   anime_id                              name  \\\n",
       "0     32281                    Kimi no Na wa.   \n",
       "1      5114  Fullmetal Alchemist: Brotherhood   \n",
       "2     28977                          Gintama°   \n",
       "3      9253                       Steins;Gate   \n",
       "4      9969                     Gintama&#039;   \n",
       "\n",
       "                                               genre   type episodes  rating  \\\n",
       "0               Drama, Romance, School, Supernatural  Movie        1    9.37   \n",
       "1  Action, Adventure, Drama, Fantasy, Magic, Mili...     TV       64    9.26   \n",
       "2  Action, Comedy, Historical, Parody, Samurai, S...     TV       51    9.25   \n",
       "3                                   Sci-Fi, Thriller     TV       24    9.17   \n",
       "4  Action, Comedy, Historical, Parody, Samurai, S...     TV       51    9.16   \n",
       "\n",
       "   members  \n",
       "0   200630  \n",
       "1   793665  \n",
       "2   114262  \n",
       "3   673572  \n",
       "4   151266  "
      ]
     },
     "execution_count": 3,
     "metadata": {},
     "output_type": "execute_result"
    }
   ],
   "source": [
    "anime_data = pd.read_csv('../Data/anime.csv')\n",
    "anime_data.head()"
   ]
  },
  {
   "cell_type": "code",
   "execution_count": 4,
   "id": "d5897f2a",
   "metadata": {},
   "outputs": [
    {
     "data": {
      "text/plain": [
       "(12294, 7)"
      ]
     },
     "execution_count": 4,
     "metadata": {},
     "output_type": "execute_result"
    }
   ],
   "source": [
    "anime_data.shape"
   ]
  },
  {
   "cell_type": "code",
   "execution_count": 5,
   "id": "f2254c85",
   "metadata": {},
   "outputs": [
    {
     "name": "stdout",
     "output_type": "stream",
     "text": [
      "<class 'pandas.core.frame.DataFrame'>\n",
      "RangeIndex: 12294 entries, 0 to 12293\n",
      "Data columns (total 7 columns):\n",
      " #   Column    Non-Null Count  Dtype  \n",
      "---  ------    --------------  -----  \n",
      " 0   anime_id  12294 non-null  int64  \n",
      " 1   name      12294 non-null  object \n",
      " 2   genre     12232 non-null  object \n",
      " 3   type      12269 non-null  object \n",
      " 4   episodes  12294 non-null  object \n",
      " 5   rating    12064 non-null  float64\n",
      " 6   members   12294 non-null  int64  \n",
      "dtypes: float64(1), int64(2), object(4)\n",
      "memory usage: 672.5+ KB\n"
     ]
    }
   ],
   "source": [
    "anime_data.info()"
   ]
  },
  {
   "cell_type": "markdown",
   "id": "bda0c69a",
   "metadata": {},
   "source": [
    "**2) Modifying dataset** such as cleaning null values, renaming and etc."
   ]
  },
  {
   "cell_type": "code",
   "execution_count": 6,
   "id": "738d6cf4",
   "metadata": {},
   "outputs": [
    {
     "data": {
      "text/plain": [
       "anime_id      0\n",
       "name          0\n",
       "genre        62\n",
       "type         25\n",
       "episodes      0\n",
       "rating      230\n",
       "members       0\n",
       "dtype: int64"
      ]
     },
     "execution_count": 6,
     "metadata": {},
     "output_type": "execute_result"
    }
   ],
   "source": [
    "#checking the number of null values\n",
    "anime_data.isnull().sum()"
   ]
  },
  {
   "cell_type": "code",
   "execution_count": 7,
   "id": "3c1d4119",
   "metadata": {},
   "outputs": [
    {
     "data": {
      "text/plain": [
       "anime_id    0\n",
       "name        0\n",
       "genre       0\n",
       "type        0\n",
       "episodes    0\n",
       "rating      0\n",
       "members     0\n",
       "dtype: int64"
      ]
     },
     "execution_count": 7,
     "metadata": {},
     "output_type": "execute_result"
    }
   ],
   "source": [
    "#removing null values\n",
    "anime_data.dropna(inplace=True)\n",
    "#checking null values after removing\n",
    "anime_data.isnull().sum()"
   ]
  },
  {
   "cell_type": "code",
   "execution_count": 8,
   "id": "37c94c62",
   "metadata": {},
   "outputs": [
    {
     "data": {
      "text/plain": [
       "(12017, 7)"
      ]
     },
     "execution_count": 8,
     "metadata": {},
     "output_type": "execute_result"
    }
   ],
   "source": [
    "anime_data.shape"
   ]
  },
  {
   "cell_type": "markdown",
   "id": "41f08252",
   "metadata": {},
   "source": [
    "The rows has decreased."
   ]
  },
  {
   "cell_type": "code",
   "execution_count": 9,
   "id": "7a3ef5ac",
   "metadata": {},
   "outputs": [
    {
     "data": {
      "text/html": [
       "<div>\n",
       "<style scoped>\n",
       "    .dataframe tbody tr th:only-of-type {\n",
       "        vertical-align: middle;\n",
       "    }\n",
       "\n",
       "    .dataframe tbody tr th {\n",
       "        vertical-align: top;\n",
       "    }\n",
       "\n",
       "    .dataframe thead th {\n",
       "        text-align: right;\n",
       "    }\n",
       "</style>\n",
       "<table border=\"1\" class=\"dataframe\">\n",
       "  <thead>\n",
       "    <tr style=\"text-align: right;\">\n",
       "      <th></th>\n",
       "      <th>anime_id</th>\n",
       "      <th>name</th>\n",
       "      <th>genre</th>\n",
       "      <th>type</th>\n",
       "      <th>episodes</th>\n",
       "      <th>rating</th>\n",
       "      <th>members</th>\n",
       "    </tr>\n",
       "  </thead>\n",
       "  <tbody>\n",
       "    <tr>\n",
       "      <th>12289</th>\n",
       "      <td>9316</td>\n",
       "      <td>Toushindai My Lover: Minami tai Mecha-Minami</td>\n",
       "      <td>Hentai</td>\n",
       "      <td>OVA</td>\n",
       "      <td>1</td>\n",
       "      <td>4.15</td>\n",
       "      <td>211</td>\n",
       "    </tr>\n",
       "    <tr>\n",
       "      <th>12290</th>\n",
       "      <td>5543</td>\n",
       "      <td>Under World</td>\n",
       "      <td>Hentai</td>\n",
       "      <td>OVA</td>\n",
       "      <td>1</td>\n",
       "      <td>4.28</td>\n",
       "      <td>183</td>\n",
       "    </tr>\n",
       "    <tr>\n",
       "      <th>12291</th>\n",
       "      <td>5621</td>\n",
       "      <td>Violence Gekiga David no Hoshi</td>\n",
       "      <td>Hentai</td>\n",
       "      <td>OVA</td>\n",
       "      <td>4</td>\n",
       "      <td>4.88</td>\n",
       "      <td>219</td>\n",
       "    </tr>\n",
       "    <tr>\n",
       "      <th>12292</th>\n",
       "      <td>6133</td>\n",
       "      <td>Violence Gekiga Shin David no Hoshi: Inma Dens...</td>\n",
       "      <td>Hentai</td>\n",
       "      <td>OVA</td>\n",
       "      <td>1</td>\n",
       "      <td>4.98</td>\n",
       "      <td>175</td>\n",
       "    </tr>\n",
       "    <tr>\n",
       "      <th>12293</th>\n",
       "      <td>26081</td>\n",
       "      <td>Yasuji no Pornorama: Yacchimae!!</td>\n",
       "      <td>Hentai</td>\n",
       "      <td>Movie</td>\n",
       "      <td>1</td>\n",
       "      <td>5.46</td>\n",
       "      <td>142</td>\n",
       "    </tr>\n",
       "  </tbody>\n",
       "</table>\n",
       "</div>"
      ],
      "text/plain": [
       "       anime_id                                               name   genre  \\\n",
       "12289      9316       Toushindai My Lover: Minami tai Mecha-Minami  Hentai   \n",
       "12290      5543                                        Under World  Hentai   \n",
       "12291      5621                     Violence Gekiga David no Hoshi  Hentai   \n",
       "12292      6133  Violence Gekiga Shin David no Hoshi: Inma Dens...  Hentai   \n",
       "12293     26081                   Yasuji no Pornorama: Yacchimae!!  Hentai   \n",
       "\n",
       "        type episodes  rating  members  \n",
       "12289    OVA        1    4.15      211  \n",
       "12290    OVA        1    4.28      183  \n",
       "12291    OVA        4    4.88      219  \n",
       "12292    OVA        1    4.98      175  \n",
       "12293  Movie        1    5.46      142  "
      ]
     },
     "execution_count": 9,
     "metadata": {},
     "output_type": "execute_result"
    }
   ],
   "source": [
    "anime_data.tail()"
   ]
  },
  {
   "cell_type": "markdown",
   "id": "6d6616f0",
   "metadata": {},
   "source": [
    "The index is not right because the dataset only have 12017 rows now. "
   ]
  },
  {
   "cell_type": "code",
   "execution_count": 10,
   "id": "0c6e706b",
   "metadata": {},
   "outputs": [
    {
     "data": {
      "text/html": [
       "<div>\n",
       "<style scoped>\n",
       "    .dataframe tbody tr th:only-of-type {\n",
       "        vertical-align: middle;\n",
       "    }\n",
       "\n",
       "    .dataframe tbody tr th {\n",
       "        vertical-align: top;\n",
       "    }\n",
       "\n",
       "    .dataframe thead th {\n",
       "        text-align: right;\n",
       "    }\n",
       "</style>\n",
       "<table border=\"1\" class=\"dataframe\">\n",
       "  <thead>\n",
       "    <tr style=\"text-align: right;\">\n",
       "      <th></th>\n",
       "      <th>anime_id</th>\n",
       "      <th>name</th>\n",
       "      <th>genre</th>\n",
       "      <th>type</th>\n",
       "      <th>episodes</th>\n",
       "      <th>rating</th>\n",
       "      <th>members</th>\n",
       "    </tr>\n",
       "  </thead>\n",
       "  <tbody>\n",
       "    <tr>\n",
       "      <th>12012</th>\n",
       "      <td>9316</td>\n",
       "      <td>Toushindai My Lover: Minami tai Mecha-Minami</td>\n",
       "      <td>Hentai</td>\n",
       "      <td>OVA</td>\n",
       "      <td>1</td>\n",
       "      <td>4.15</td>\n",
       "      <td>211</td>\n",
       "    </tr>\n",
       "    <tr>\n",
       "      <th>12013</th>\n",
       "      <td>5543</td>\n",
       "      <td>Under World</td>\n",
       "      <td>Hentai</td>\n",
       "      <td>OVA</td>\n",
       "      <td>1</td>\n",
       "      <td>4.28</td>\n",
       "      <td>183</td>\n",
       "    </tr>\n",
       "    <tr>\n",
       "      <th>12014</th>\n",
       "      <td>5621</td>\n",
       "      <td>Violence Gekiga David no Hoshi</td>\n",
       "      <td>Hentai</td>\n",
       "      <td>OVA</td>\n",
       "      <td>4</td>\n",
       "      <td>4.88</td>\n",
       "      <td>219</td>\n",
       "    </tr>\n",
       "    <tr>\n",
       "      <th>12015</th>\n",
       "      <td>6133</td>\n",
       "      <td>Violence Gekiga Shin David no Hoshi: Inma Dens...</td>\n",
       "      <td>Hentai</td>\n",
       "      <td>OVA</td>\n",
       "      <td>1</td>\n",
       "      <td>4.98</td>\n",
       "      <td>175</td>\n",
       "    </tr>\n",
       "    <tr>\n",
       "      <th>12016</th>\n",
       "      <td>26081</td>\n",
       "      <td>Yasuji no Pornorama: Yacchimae!!</td>\n",
       "      <td>Hentai</td>\n",
       "      <td>Movie</td>\n",
       "      <td>1</td>\n",
       "      <td>5.46</td>\n",
       "      <td>142</td>\n",
       "    </tr>\n",
       "  </tbody>\n",
       "</table>\n",
       "</div>"
      ],
      "text/plain": [
       "       anime_id                                               name   genre  \\\n",
       "12012      9316       Toushindai My Lover: Minami tai Mecha-Minami  Hentai   \n",
       "12013      5543                                        Under World  Hentai   \n",
       "12014      5621                     Violence Gekiga David no Hoshi  Hentai   \n",
       "12015      6133  Violence Gekiga Shin David no Hoshi: Inma Dens...  Hentai   \n",
       "12016     26081                   Yasuji no Pornorama: Yacchimae!!  Hentai   \n",
       "\n",
       "        type episodes  rating  members  \n",
       "12012    OVA        1    4.15      211  \n",
       "12013    OVA        1    4.28      183  \n",
       "12014    OVA        4    4.88      219  \n",
       "12015    OVA        1    4.98      175  \n",
       "12016  Movie        1    5.46      142  "
      ]
     },
     "execution_count": 10,
     "metadata": {},
     "output_type": "execute_result"
    }
   ],
   "source": [
    "#reseting index of datasets\n",
    "anime_data.reset_index(drop = True, inplace= True)\n",
    "anime_data.tail()"
   ]
  },
  {
   "cell_type": "markdown",
   "id": "30dbd325",
   "metadata": {},
   "source": [
    "Indexing is fine now. Let's rename rating as avg_rating and name as title"
   ]
  },
  {
   "cell_type": "code",
   "execution_count": 11,
   "id": "7d60c169",
   "metadata": {},
   "outputs": [
    {
     "data": {
      "text/html": [
       "<div>\n",
       "<style scoped>\n",
       "    .dataframe tbody tr th:only-of-type {\n",
       "        vertical-align: middle;\n",
       "    }\n",
       "\n",
       "    .dataframe tbody tr th {\n",
       "        vertical-align: top;\n",
       "    }\n",
       "\n",
       "    .dataframe thead th {\n",
       "        text-align: right;\n",
       "    }\n",
       "</style>\n",
       "<table border=\"1\" class=\"dataframe\">\n",
       "  <thead>\n",
       "    <tr style=\"text-align: right;\">\n",
       "      <th></th>\n",
       "      <th>anime_id</th>\n",
       "      <th>title</th>\n",
       "      <th>genre</th>\n",
       "      <th>type</th>\n",
       "      <th>episodes</th>\n",
       "      <th>avg_rating</th>\n",
       "      <th>members</th>\n",
       "    </tr>\n",
       "  </thead>\n",
       "  <tbody>\n",
       "    <tr>\n",
       "      <th>0</th>\n",
       "      <td>32281</td>\n",
       "      <td>Kimi no Na wa.</td>\n",
       "      <td>Drama, Romance, School, Supernatural</td>\n",
       "      <td>Movie</td>\n",
       "      <td>1</td>\n",
       "      <td>9.37</td>\n",
       "      <td>200630</td>\n",
       "    </tr>\n",
       "    <tr>\n",
       "      <th>1</th>\n",
       "      <td>5114</td>\n",
       "      <td>Fullmetal Alchemist: Brotherhood</td>\n",
       "      <td>Action, Adventure, Drama, Fantasy, Magic, Mili...</td>\n",
       "      <td>TV</td>\n",
       "      <td>64</td>\n",
       "      <td>9.26</td>\n",
       "      <td>793665</td>\n",
       "    </tr>\n",
       "    <tr>\n",
       "      <th>2</th>\n",
       "      <td>28977</td>\n",
       "      <td>Gintama°</td>\n",
       "      <td>Action, Comedy, Historical, Parody, Samurai, S...</td>\n",
       "      <td>TV</td>\n",
       "      <td>51</td>\n",
       "      <td>9.25</td>\n",
       "      <td>114262</td>\n",
       "    </tr>\n",
       "    <tr>\n",
       "      <th>3</th>\n",
       "      <td>9253</td>\n",
       "      <td>Steins;Gate</td>\n",
       "      <td>Sci-Fi, Thriller</td>\n",
       "      <td>TV</td>\n",
       "      <td>24</td>\n",
       "      <td>9.17</td>\n",
       "      <td>673572</td>\n",
       "    </tr>\n",
       "    <tr>\n",
       "      <th>4</th>\n",
       "      <td>9969</td>\n",
       "      <td>Gintama&amp;#039;</td>\n",
       "      <td>Action, Comedy, Historical, Parody, Samurai, S...</td>\n",
       "      <td>TV</td>\n",
       "      <td>51</td>\n",
       "      <td>9.16</td>\n",
       "      <td>151266</td>\n",
       "    </tr>\n",
       "  </tbody>\n",
       "</table>\n",
       "</div>"
      ],
      "text/plain": [
       "   anime_id                             title  \\\n",
       "0     32281                    Kimi no Na wa.   \n",
       "1      5114  Fullmetal Alchemist: Brotherhood   \n",
       "2     28977                          Gintama°   \n",
       "3      9253                       Steins;Gate   \n",
       "4      9969                     Gintama&#039;   \n",
       "\n",
       "                                               genre   type episodes  \\\n",
       "0               Drama, Romance, School, Supernatural  Movie        1   \n",
       "1  Action, Adventure, Drama, Fantasy, Magic, Mili...     TV       64   \n",
       "2  Action, Comedy, Historical, Parody, Samurai, S...     TV       51   \n",
       "3                                   Sci-Fi, Thriller     TV       24   \n",
       "4  Action, Comedy, Historical, Parody, Samurai, S...     TV       51   \n",
       "\n",
       "   avg_rating  members  \n",
       "0        9.37   200630  \n",
       "1        9.26   793665  \n",
       "2        9.25   114262  \n",
       "3        9.17   673572  \n",
       "4        9.16   151266  "
      ]
     },
     "execution_count": 11,
     "metadata": {},
     "output_type": "execute_result"
    }
   ],
   "source": [
    "#renaming columns\n",
    "anime_data.rename(columns={'rating':'avg_rating','name':'title'},inplace = True)\n",
    "anime_data.head()"
   ]
  },
  {
   "cell_type": "markdown",
   "id": "1a13936c",
   "metadata": {},
   "source": [
    "If we look at title column, the datas contain a lot of special symbols. Remove all the special symbols for better result."
   ]
  },
  {
   "cell_type": "code",
   "execution_count": 12,
   "id": "cb4c71a9",
   "metadata": {},
   "outputs": [],
   "source": [
    "#for an easy input later\n",
    "anime_data['title'] = anime_data['title'].str.lower()"
   ]
  },
  {
   "cell_type": "code",
   "execution_count": 13,
   "id": "bb545a28",
   "metadata": {},
   "outputs": [],
   "source": [
    "#define function for removing/renanimg the title column\n",
    "def sym_cleaning(symbol):\n",
    "    symbol = re.sub(r'&quot;', '', symbol)\n",
    "    symbol = re.sub(r'.hack//', '', symbol)\n",
    "    symbol = re.sub(r'&#039;', '', symbol)\n",
    "    symbol = re.sub(r'A&#039;s', '', symbol)\n",
    "    symbol = re.sub(r'I&#039;', 'I\\'', symbol)\n",
    "    symbol = re.sub(r'&amp;', 'and', symbol)\n",
    "    symbol = re.sub(r'[.;!!:-]','', symbol)\n",
    "    symbol = re.sub(r'°','', symbol)\n",
    "    \n",
    "    \n",
    "    return symbol\n",
    "\n",
    "anime_data['title'] = anime_data['title'].apply(sym_cleaning)"
   ]
  },
  {
   "cell_type": "code",
   "execution_count": 14,
   "id": "bceefe0a",
   "metadata": {
    "scrolled": true
   },
   "outputs": [
    {
     "data": {
      "text/plain": [
       "0                                        kimi no na wa\n",
       "1                      fullmetal alchemist brotherhood\n",
       "2                                              gintama\n",
       "3                                           steinsgate\n",
       "4                                              gintama\n",
       "5    haikyuu karasuno koukou vs shiratorizawa gakue...\n",
       "6                               hunter x hunter (2011)\n",
       "7                                 ginga eiyuu densetsu\n",
       "8     gintama movie kanketsuhen  yorozuya yo eien nare\n",
       "9                                    gintama enchousen\n",
       "Name: title, dtype: object"
      ]
     },
     "execution_count": 14,
     "metadata": {},
     "output_type": "execute_result"
    }
   ],
   "source": [
    "#checking title column\n",
    "anime_data['title'].head(10)"
   ]
  },
  {
   "cell_type": "code",
   "execution_count": 15,
   "id": "34874ef5",
   "metadata": {},
   "outputs": [
    {
     "data": {
      "text/plain": [
       "azarashi tamachan no hi no youjin            1\n",
       "wakaba*girl onsen tsukaritai                 1\n",
       "ryou seibai gakuen bishoujo seisai hiroku    1\n",
       "dragon collection                            1\n",
       "tenioe                                       1\n",
       "                                            ..\n",
       "nandarou                                     1\n",
       "juuni kokuki                                 1\n",
       "hayate no gotoku                             1\n",
       "makenki                                      1\n",
       "kaze no shoujo emily                         1\n",
       "Name: title, Length: 11993, dtype: int64"
      ]
     },
     "execution_count": 15,
     "metadata": {},
     "output_type": "execute_result"
    }
   ],
   "source": [
    "anime_data.drop_duplicates(subset=['title'],inplace=True)\n",
    "anime_data['title'].value_counts()"
   ]
  },
  {
   "cell_type": "code",
   "execution_count": 16,
   "id": "50413aa2",
   "metadata": {},
   "outputs": [
    {
     "data": {
      "text/plain": [
       "0                                        kimi no na wa\n",
       "1                      fullmetal alchemist brotherhood\n",
       "2                                              gintama\n",
       "3                                           steinsgate\n",
       "5    haikyuu karasuno koukou vs shiratorizawa gakue...\n",
       "Name: title, dtype: object"
      ]
     },
     "execution_count": 16,
     "metadata": {},
     "output_type": "execute_result"
    }
   ],
   "source": [
    "anime_data['title'].head()"
   ]
  },
  {
   "cell_type": "markdown",
   "id": "31941985",
   "metadata": {},
   "source": [
    "**There we go!**"
   ]
  },
  {
   "cell_type": "markdown",
   "id": "445c959a",
   "metadata": {},
   "source": [
    "**3) Dataset statistics**"
   ]
  },
  {
   "cell_type": "code",
   "execution_count": 17,
   "id": "f72f922f",
   "metadata": {},
   "outputs": [
    {
     "data": {
      "text/html": [
       "<div>\n",
       "<style scoped>\n",
       "    .dataframe tbody tr th:only-of-type {\n",
       "        vertical-align: middle;\n",
       "    }\n",
       "\n",
       "    .dataframe tbody tr th {\n",
       "        vertical-align: top;\n",
       "    }\n",
       "\n",
       "    .dataframe thead th {\n",
       "        text-align: right;\n",
       "    }\n",
       "</style>\n",
       "<table border=\"1\" class=\"dataframe\">\n",
       "  <thead>\n",
       "    <tr style=\"text-align: right;\">\n",
       "      <th></th>\n",
       "      <th>anime_id</th>\n",
       "      <th>avg_rating</th>\n",
       "      <th>members</th>\n",
       "    </tr>\n",
       "  </thead>\n",
       "  <tbody>\n",
       "    <tr>\n",
       "      <th>count</th>\n",
       "      <td>11993.000000</td>\n",
       "      <td>11993.000000</td>\n",
       "      <td>1.199300e+04</td>\n",
       "    </tr>\n",
       "    <tr>\n",
       "      <th>mean</th>\n",
       "      <td>13637.977904</td>\n",
       "      <td>6.477031</td>\n",
       "      <td>1.821889e+04</td>\n",
       "    </tr>\n",
       "    <tr>\n",
       "      <th>std</th>\n",
       "      <td>11233.946374</td>\n",
       "      <td>1.023506</td>\n",
       "      <td>5.514493e+04</td>\n",
       "    </tr>\n",
       "    <tr>\n",
       "      <th>min</th>\n",
       "      <td>1.000000</td>\n",
       "      <td>1.670000</td>\n",
       "      <td>1.200000e+01</td>\n",
       "    </tr>\n",
       "    <tr>\n",
       "      <th>25%</th>\n",
       "      <td>3389.000000</td>\n",
       "      <td>5.890000</td>\n",
       "      <td>2.240000e+02</td>\n",
       "    </tr>\n",
       "    <tr>\n",
       "      <th>50%</th>\n",
       "      <td>9956.000000</td>\n",
       "      <td>6.570000</td>\n",
       "      <td>1.547000e+03</td>\n",
       "    </tr>\n",
       "    <tr>\n",
       "      <th>75%</th>\n",
       "      <td>23733.000000</td>\n",
       "      <td>7.180000</td>\n",
       "      <td>9.487000e+03</td>\n",
       "    </tr>\n",
       "    <tr>\n",
       "      <th>max</th>\n",
       "      <td>34519.000000</td>\n",
       "      <td>10.000000</td>\n",
       "      <td>1.013917e+06</td>\n",
       "    </tr>\n",
       "  </tbody>\n",
       "</table>\n",
       "</div>"
      ],
      "text/plain": [
       "           anime_id    avg_rating       members\n",
       "count  11993.000000  11993.000000  1.199300e+04\n",
       "mean   13637.977904      6.477031  1.821889e+04\n",
       "std    11233.946374      1.023506  5.514493e+04\n",
       "min        1.000000      1.670000  1.200000e+01\n",
       "25%     3389.000000      5.890000  2.240000e+02\n",
       "50%     9956.000000      6.570000  1.547000e+03\n",
       "75%    23733.000000      7.180000  9.487000e+03\n",
       "max    34519.000000     10.000000  1.013917e+06"
      ]
     },
     "execution_count": 17,
     "metadata": {},
     "output_type": "execute_result"
    }
   ],
   "source": [
    "anime_data.describe()"
   ]
  },
  {
   "cell_type": "markdown",
   "id": "b5556b50",
   "metadata": {},
   "source": [
    "Change anime_id column into type oblect because we don't want it in the statistics. anime_id is just an identification code for the anime."
   ]
  },
  {
   "cell_type": "code",
   "execution_count": 18,
   "id": "cb47b20f",
   "metadata": {},
   "outputs": [
    {
     "data": {
      "text/html": [
       "<div>\n",
       "<style scoped>\n",
       "    .dataframe tbody tr th:only-of-type {\n",
       "        vertical-align: middle;\n",
       "    }\n",
       "\n",
       "    .dataframe tbody tr th {\n",
       "        vertical-align: top;\n",
       "    }\n",
       "\n",
       "    .dataframe thead th {\n",
       "        text-align: right;\n",
       "    }\n",
       "</style>\n",
       "<table border=\"1\" class=\"dataframe\">\n",
       "  <thead>\n",
       "    <tr style=\"text-align: right;\">\n",
       "      <th></th>\n",
       "      <th>avg_rating</th>\n",
       "      <th>members</th>\n",
       "    </tr>\n",
       "  </thead>\n",
       "  <tbody>\n",
       "    <tr>\n",
       "      <th>count</th>\n",
       "      <td>11993.000000</td>\n",
       "      <td>1.199300e+04</td>\n",
       "    </tr>\n",
       "    <tr>\n",
       "      <th>mean</th>\n",
       "      <td>6.477031</td>\n",
       "      <td>1.821889e+04</td>\n",
       "    </tr>\n",
       "    <tr>\n",
       "      <th>std</th>\n",
       "      <td>1.023506</td>\n",
       "      <td>5.514493e+04</td>\n",
       "    </tr>\n",
       "    <tr>\n",
       "      <th>min</th>\n",
       "      <td>1.670000</td>\n",
       "      <td>1.200000e+01</td>\n",
       "    </tr>\n",
       "    <tr>\n",
       "      <th>25%</th>\n",
       "      <td>5.890000</td>\n",
       "      <td>2.240000e+02</td>\n",
       "    </tr>\n",
       "    <tr>\n",
       "      <th>50%</th>\n",
       "      <td>6.570000</td>\n",
       "      <td>1.547000e+03</td>\n",
       "    </tr>\n",
       "    <tr>\n",
       "      <th>75%</th>\n",
       "      <td>7.180000</td>\n",
       "      <td>9.487000e+03</td>\n",
       "    </tr>\n",
       "    <tr>\n",
       "      <th>max</th>\n",
       "      <td>10.000000</td>\n",
       "      <td>1.013917e+06</td>\n",
       "    </tr>\n",
       "  </tbody>\n",
       "</table>\n",
       "</div>"
      ],
      "text/plain": [
       "         avg_rating       members\n",
       "count  11993.000000  1.199300e+04\n",
       "mean       6.477031  1.821889e+04\n",
       "std        1.023506  5.514493e+04\n",
       "min        1.670000  1.200000e+01\n",
       "25%        5.890000  2.240000e+02\n",
       "50%        6.570000  1.547000e+03\n",
       "75%        7.180000  9.487000e+03\n",
       "max       10.000000  1.013917e+06"
      ]
     },
     "execution_count": 18,
     "metadata": {},
     "output_type": "execute_result"
    }
   ],
   "source": [
    "anime_data['anime_id'] = anime_data['anime_id'].astype(object)\n",
    "#checking dataset statistic after changing dtypes\n",
    "anime_data.describe()"
   ]
  },
  {
   "cell_type": "markdown",
   "id": "0161909d",
   "metadata": {},
   "source": [
    "Let's proceed with scatter matrix plot to see the relation between avg_rating and members"
   ]
  },
  {
   "cell_type": "code",
   "execution_count": 39,
   "id": "2d833d16",
   "metadata": {},
   "outputs": [
    {
     "data": {
      "image/png": "[encoded data removed]",
      "text/plain": [
       "<Figure size 720x864 with 4 Axes>"
      ]
     },
     "metadata": {
      "needs_background": "light"
     },
     "output_type": "display_data"
    }
   ],
   "source": [
    "pd.plotting.scatter_matrix(anime_data,figsize=(10,12),color='coral');"
   ]
  },
  {
   "cell_type": "markdown",
   "id": "67cbef02",
   "metadata": {},
   "source": [
    "**4) Visualization**"
   ]
  },
  {
   "cell_type": "code",
   "execution_count": 32,
   "id": "6ca9c831",
   "metadata": {},
   "outputs": [
    {
     "data": {
      "image/png": "[encoded data removed]",
      "text/plain": [
       "<Figure size 432x288 with 1 Axes>"
      ]
     },
     "metadata": {
      "needs_background": "light"
     },
     "output_type": "display_data"
    }
   ],
   "source": [
    "anime_data['genre'].value_counts().sort_values(ascending=False).head(10).plot(kind='bar',color=['purple','cyan','black',\n",
    "                                                                                                'pink','red','blue','green',\n",
    "                                                                                                'yellow','brown','orange'])\n",
    "plt.ylabel('Number of Anime')\n",
    "plt.xlabel(\"Anime's genre\")\n",
    "plt.title('Top 10 most prefered genre');"
   ]
  },
  {
   "cell_type": "markdown",
   "id": "0d849f8c",
   "metadata": {},
   "source": [
    "Now we got 'Hentai' genre as the most loved anime's genre followed by Comedy in the second place and Music in the third."
   ]
  },
  {
   "cell_type": "code",
   "execution_count": 36,
   "id": "208435cd",
   "metadata": {},
   "outputs": [
    {
     "data": {
      "image/png": "[encoded data removed]",
      "text/plain": [
       "<Figure size 720x576 with 1 Axes>"
      ]
     },
     "metadata": {},
     "output_type": "display_data"
    }
   ],
   "source": [
    "anime_data['type'].value_counts().plot(kind='pie',figsize=(10,8),autopct='%.0f%%',\n",
    "                                       colors = ['#ff9999','#66b3ff','#99ff99',\n",
    "                                                 '#ffcc99','#CE8AF8','#FDFF85'],\n",
    "                                      shadow=True,explode = [0.1,0,0,0,0,0]);"
   ]
  },
  {
   "cell_type": "markdown",
   "id": "df926764",
   "metadata": {},
   "source": [
    "Most people watched TV-type of anime."
   ]
  },
  {
   "cell_type": "markdown",
   "id": "2d10afa1",
   "metadata": {},
   "source": [
    "**5) Cosine Similarity**"
   ]
  },
  {
   "cell_type": "code",
   "execution_count": 22,
   "id": "e8ebd992",
   "metadata": {
    "scrolled": true
   },
   "outputs": [
    {
     "data": {
      "text/plain": [
       "(11993, 2680)"
      ]
     },
     "execution_count": 22,
     "metadata": {},
     "output_type": "execute_result"
    }
   ],
   "source": [
    "#define Tf-Idf vectorizer\n",
    "tfidf = TfidfVectorizer(analyzer='word', ngram_range=(1, 3), \n",
    "                        min_df=0,stop_words='english')\n",
    "\n",
    "#spliting the list by a comma (,)\n",
    "anime_data['genre'] = anime_data['genre'].str.split(',').astype(str)\n",
    "\n",
    "#construct tfidf matrix by fitting and transforming genre\n",
    "tfidf_matrix = tfidf.fit_transform(anime_data['genre'])\n",
    "\n",
    "#check the shape of matrix\n",
    "tfidf_matrix.shape"
   ]
  },
  {
   "cell_type": "markdown",
   "id": "9553458f",
   "metadata": {},
   "source": [
    "We have 2680 different vocabs/genres for 11993 animes"
   ]
  },
  {
   "cell_type": "code",
   "execution_count": 23,
   "id": "800c0572",
   "metadata": {},
   "outputs": [
    {
     "data": {
      "text/plain": [
       "(11993, 11993)"
      ]
     },
     "execution_count": 23,
     "metadata": {},
     "output_type": "execute_result"
    }
   ],
   "source": [
    "#construct cosine similarity matrix\n",
    "cos_similar = cosine_similarity(tfidf_matrix, tfidf_matrix)\n",
    "cos_similar.shape"
   ]
  },
  {
   "cell_type": "markdown",
   "id": "de948418",
   "metadata": {},
   "source": [
    "Now we have 11993**X**11993 matrix because we want each genre to get similarity score with every genre in the dataset"
   ]
  },
  {
   "cell_type": "markdown",
   "id": "40e1d08d",
   "metadata": {},
   "source": [
    "**6) Anime recommendation system**"
   ]
  },
  {
   "cell_type": "markdown",
   "id": "d636f355",
   "metadata": {},
   "source": [
    "Now, let's define a function that takes anime title as an input and outputs the top 10 most similar anime according to its genre"
   ]
  },
  {
   "cell_type": "code",
   "execution_count": 24,
   "id": "aed83084",
   "metadata": {
    "scrolled": true
   },
   "outputs": [
    {
     "data": {
      "text/plain": [
       "title\n",
       "kimi no na wa                                              0\n",
       "fullmetal alchemist brotherhood                            1\n",
       "gintama                                                    2\n",
       "steinsgate                                                 3\n",
       "haikyuu karasuno koukou vs shiratorizawa gakuen koukou     5\n",
       "hunter x hunter (2011)                                     6\n",
       "ginga eiyuu densetsu                                       7\n",
       "gintama movie kanketsuhen  yorozuya yo eien nare           8\n",
       "gintama enchousen                                          9\n",
       "clannad after story                                       10\n",
       "dtype: int64"
      ]
     },
     "execution_count": 24,
     "metadata": {},
     "output_type": "execute_result"
    }
   ],
   "source": [
    "#getting the indices of anime title\n",
    "indices = pd.Series(anime_data.index,index=anime_data['title']).drop_duplicates()\n",
    "indices[:10]"
   ]
  },
  {
   "cell_type": "code",
   "execution_count": 25,
   "id": "6f4ec380",
   "metadata": {},
   "outputs": [],
   "source": [
    "def anime_rec(cos_similar = cos_similar):\n",
    "    #get the index of anime that matches the title\n",
    "    title = input('Please enter anime title: ')\n",
    "    anime_idx = indices[title]\n",
    "    \n",
    "    #put the pairwise similarity score in a list\n",
    "    similar_score = list(enumerate(cos_similar[anime_idx]))\n",
    "    \n",
    "    #sort based on similar scores\n",
    "    similar_score = sorted(similar_score, key=lambda x: x[1],reverse=True)\n",
    "    \n",
    "    #get the top 10 similar scores\n",
    "    similar_score = similar_score[1:11]\n",
    "    \n",
    "    #get anime indices\n",
    "    anime_indices = [i[0] for i in similar_score]\n",
    "    \n",
    "    #return top 10 similarity scores\n",
    "    return pd.DataFrame({'Anime title': anime_data['title'].iloc[anime_indices],\n",
    "                                 'Rating': anime_data['avg_rating'].iloc[anime_indices]})\n"
   ]
  },
  {
   "cell_type": "code",
   "execution_count": 26,
   "id": "d4fabc2f",
   "metadata": {},
   "outputs": [
    {
     "name": "stdout",
     "output_type": "stream",
     "text": [
      "Please enter anime title: haikyuu\n"
     ]
    },
    {
     "data": {
      "text/html": [
       "<div>\n",
       "<style scoped>\n",
       "    .dataframe tbody tr th:only-of-type {\n",
       "        vertical-align: middle;\n",
       "    }\n",
       "\n",
       "    .dataframe tbody tr th {\n",
       "        vertical-align: top;\n",
       "    }\n",
       "\n",
       "    .dataframe thead th {\n",
       "        text-align: right;\n",
       "    }\n",
       "</style>\n",
       "<table border=\"1\" class=\"dataframe\">\n",
       "  <thead>\n",
       "    <tr style=\"text-align: right;\">\n",
       "      <th></th>\n",
       "      <th>Anime title</th>\n",
       "      <th>Rating</th>\n",
       "    </tr>\n",
       "  </thead>\n",
       "  <tbody>\n",
       "    <tr>\n",
       "      <th>323</th>\n",
       "      <td>ef a tale of melodies</td>\n",
       "      <td>8.18</td>\n",
       "    </tr>\n",
       "    <tr>\n",
       "      <th>77</th>\n",
       "      <td>kara no kyoukai 7 satsujin kousatsu (kou)</td>\n",
       "      <td>8.57</td>\n",
       "    </tr>\n",
       "    <tr>\n",
       "      <th>506</th>\n",
       "      <td>kara no kyoukai 2 satsujin kousatsu (zen)</td>\n",
       "      <td>8.02</td>\n",
       "    </tr>\n",
       "    <tr>\n",
       "      <th>1014</th>\n",
       "      <td>kara no kyoukai 6 boukyaku rokuon</td>\n",
       "      <td>7.72</td>\n",
       "    </tr>\n",
       "    <tr>\n",
       "      <th>1998</th>\n",
       "      <td>bakemonogatari recap</td>\n",
       "      <td>7.38</td>\n",
       "    </tr>\n",
       "    <tr>\n",
       "      <th>392</th>\n",
       "      <td>ef a tale of memories</td>\n",
       "      <td>8.12</td>\n",
       "    </tr>\n",
       "    <tr>\n",
       "      <th>1410</th>\n",
       "      <td>ef a tale of memories  recollections</td>\n",
       "      <td>7.55</td>\n",
       "    </tr>\n",
       "    <tr>\n",
       "      <th>1994</th>\n",
       "      <td>angel heart</td>\n",
       "      <td>7.38</td>\n",
       "    </tr>\n",
       "    <tr>\n",
       "      <th>1908</th>\n",
       "      <td>noir</td>\n",
       "      <td>7.41</td>\n",
       "    </tr>\n",
       "    <tr>\n",
       "      <th>297</th>\n",
       "      <td>kara no kyoukai 3 tsuukaku zanryuu</td>\n",
       "      <td>8.21</td>\n",
       "    </tr>\n",
       "  </tbody>\n",
       "</table>\n",
       "</div>"
      ],
      "text/plain": [
       "                                    Anime title  Rating\n",
       "323                       ef a tale of melodies    8.18\n",
       "77    kara no kyoukai 7 satsujin kousatsu (kou)    8.57\n",
       "506   kara no kyoukai 2 satsujin kousatsu (zen)    8.02\n",
       "1014          kara no kyoukai 6 boukyaku rokuon    7.72\n",
       "1998                       bakemonogatari recap    7.38\n",
       "392                       ef a tale of memories    8.12\n",
       "1410       ef a tale of memories  recollections    7.55\n",
       "1994                                angel heart    7.38\n",
       "1908                                       noir    7.41\n",
       "297          kara no kyoukai 3 tsuukaku zanryuu    8.21"
      ]
     },
     "execution_count": 26,
     "metadata": {},
     "output_type": "execute_result"
    }
   ],
   "source": [
    "#example 1\n",
    "anime_rec()"
   ]
  },
  {
   "cell_type": "code",
   "execution_count": 27,
   "id": "1dbd5d7e",
   "metadata": {},
   "outputs": [
    {
     "name": "stdout",
     "output_type": "stream",
     "text": [
      "Please enter anime title: gintama\n"
     ]
    },
    {
     "data": {
      "text/html": [
       "<div>\n",
       "<style scoped>\n",
       "    .dataframe tbody tr th:only-of-type {\n",
       "        vertical-align: middle;\n",
       "    }\n",
       "\n",
       "    .dataframe tbody tr th {\n",
       "        vertical-align: top;\n",
       "    }\n",
       "\n",
       "    .dataframe thead th {\n",
       "        text-align: right;\n",
       "    }\n",
       "</style>\n",
       "<table border=\"1\" class=\"dataframe\">\n",
       "  <thead>\n",
       "    <tr style=\"text-align: right;\">\n",
       "      <th></th>\n",
       "      <th>Anime title</th>\n",
       "      <th>Rating</th>\n",
       "    </tr>\n",
       "  </thead>\n",
       "  <tbody>\n",
       "    <tr>\n",
       "      <th>8</th>\n",
       "      <td>gintama movie kanketsuhen  yorozuya yo eien nare</td>\n",
       "      <td>9.10</td>\n",
       "    </tr>\n",
       "    <tr>\n",
       "      <th>9</th>\n",
       "      <td>gintama enchousen</td>\n",
       "      <td>9.11</td>\n",
       "    </tr>\n",
       "    <tr>\n",
       "      <th>63</th>\n",
       "      <td>gintama yorinuki gintamasan on theater 2d</td>\n",
       "      <td>8.60</td>\n",
       "    </tr>\n",
       "    <tr>\n",
       "      <th>65</th>\n",
       "      <td>gintama movie shinyaku benizakurahen</td>\n",
       "      <td>8.59</td>\n",
       "    </tr>\n",
       "    <tr>\n",
       "      <th>216</th>\n",
       "      <td>gintama shinyaku benizakurahen</td>\n",
       "      <td>8.31</td>\n",
       "    </tr>\n",
       "    <tr>\n",
       "      <th>306</th>\n",
       "      <td>gintama jump festa 2014 special</td>\n",
       "      <td>8.20</td>\n",
       "    </tr>\n",
       "    <tr>\n",
       "      <th>361</th>\n",
       "      <td>gintama jump festa 2015 special</td>\n",
       "      <td>8.15</td>\n",
       "    </tr>\n",
       "    <tr>\n",
       "      <th>380</th>\n",
       "      <td>gintama nanigoto mo saiyo ga kanjin nano de ta...</td>\n",
       "      <td>8.13</td>\n",
       "    </tr>\n",
       "    <tr>\n",
       "      <th>4299</th>\n",
       "      <td>tono to issho</td>\n",
       "      <td>6.76</td>\n",
       "    </tr>\n",
       "    <tr>\n",
       "      <th>4423</th>\n",
       "      <td>tono to issho gantai no yabou</td>\n",
       "      <td>6.73</td>\n",
       "    </tr>\n",
       "  </tbody>\n",
       "</table>\n",
       "</div>"
      ],
      "text/plain": [
       "                                            Anime title  Rating\n",
       "8      gintama movie kanketsuhen  yorozuya yo eien nare    9.10\n",
       "9                                     gintama enchousen    9.11\n",
       "63            gintama yorinuki gintamasan on theater 2d    8.60\n",
       "65                 gintama movie shinyaku benizakurahen    8.59\n",
       "216                      gintama shinyaku benizakurahen    8.31\n",
       "306                     gintama jump festa 2014 special    8.20\n",
       "361                     gintama jump festa 2015 special    8.15\n",
       "380   gintama nanigoto mo saiyo ga kanjin nano de ta...    8.13\n",
       "4299                                      tono to issho    6.76\n",
       "4423                      tono to issho gantai no yabou    6.73"
      ]
     },
     "execution_count": 27,
     "metadata": {},
     "output_type": "execute_result"
    }
   ],
   "source": [
    "#example 2\n",
    "anime_rec()"
   ]
  },
  {
   "cell_type": "code",
   "execution_count": 28,
   "id": "b548fe48",
   "metadata": {},
   "outputs": [
    {
     "name": "stdout",
     "output_type": "stream",
     "text": [
      "Please enter anime title: steinsgate\n"
     ]
    },
    {
     "data": {
      "text/html": [
       "<div>\n",
       "<style scoped>\n",
       "    .dataframe tbody tr th:only-of-type {\n",
       "        vertical-align: middle;\n",
       "    }\n",
       "\n",
       "    .dataframe tbody tr th {\n",
       "        vertical-align: top;\n",
       "    }\n",
       "\n",
       "    .dataframe thead th {\n",
       "        text-align: right;\n",
       "    }\n",
       "</style>\n",
       "<table border=\"1\" class=\"dataframe\">\n",
       "  <thead>\n",
       "    <tr style=\"text-align: right;\">\n",
       "      <th></th>\n",
       "      <th>Anime title</th>\n",
       "      <th>Rating</th>\n",
       "    </tr>\n",
       "  </thead>\n",
       "  <tbody>\n",
       "    <tr>\n",
       "      <th>59</th>\n",
       "      <td>steinsgate movie fuka ryouiki no déjà vu</td>\n",
       "      <td>8.61</td>\n",
       "    </tr>\n",
       "    <tr>\n",
       "      <th>126</th>\n",
       "      <td>steinsgate oukoubakko no poriomania</td>\n",
       "      <td>8.46</td>\n",
       "    </tr>\n",
       "    <tr>\n",
       "      <th>196</th>\n",
       "      <td>steinsgate kyoukaimenjou no missing link  divi...</td>\n",
       "      <td>8.34</td>\n",
       "    </tr>\n",
       "    <tr>\n",
       "      <th>5124</th>\n",
       "      <td>under the dog</td>\n",
       "      <td>6.55</td>\n",
       "    </tr>\n",
       "    <tr>\n",
       "      <th>5523</th>\n",
       "      <td>loups=garous</td>\n",
       "      <td>6.43</td>\n",
       "    </tr>\n",
       "    <tr>\n",
       "      <th>6885</th>\n",
       "      <td>loups=garous pilot</td>\n",
       "      <td>5.87</td>\n",
       "    </tr>\n",
       "    <tr>\n",
       "      <th>2518</th>\n",
       "      <td>ibara no ou</td>\n",
       "      <td>7.24</td>\n",
       "    </tr>\n",
       "    <tr>\n",
       "      <th>5475</th>\n",
       "      <td>arve rezzle kikaijikake no youseitachi</td>\n",
       "      <td>6.44</td>\n",
       "    </tr>\n",
       "    <tr>\n",
       "      <th>493</th>\n",
       "      <td>higashi no eden</td>\n",
       "      <td>8.03</td>\n",
       "    </tr>\n",
       "    <tr>\n",
       "      <th>365</th>\n",
       "      <td>paprika</td>\n",
       "      <td>8.15</td>\n",
       "    </tr>\n",
       "  </tbody>\n",
       "</table>\n",
       "</div>"
      ],
      "text/plain": [
       "                                            Anime title  Rating\n",
       "59             steinsgate movie fuka ryouiki no déjà vu    8.61\n",
       "126                 steinsgate oukoubakko no poriomania    8.46\n",
       "196   steinsgate kyoukaimenjou no missing link  divi...    8.34\n",
       "5124                                      under the dog    6.55\n",
       "5523                                       loups=garous    6.43\n",
       "6885                                 loups=garous pilot    5.87\n",
       "2518                                        ibara no ou    7.24\n",
       "5475             arve rezzle kikaijikake no youseitachi    6.44\n",
       "493                                     higashi no eden    8.03\n",
       "365                                             paprika    8.15"
      ]
     },
     "execution_count": 28,
     "metadata": {},
     "output_type": "execute_result"
    }
   ],
   "source": [
    "#example 3\n",
    "anime_rec()"
   ]
  },
  {
   "cell_type": "code",
   "execution_count": 29,
   "id": "8619f237",
   "metadata": {
    "scrolled": true
   },
   "outputs": [
    {
     "name": "stdout",
     "output_type": "stream",
     "text": [
      "Please enter anime title: toradora\n"
     ]
    },
    {
     "data": {
      "text/html": [
       "<div>\n",
       "<style scoped>\n",
       "    .dataframe tbody tr th:only-of-type {\n",
       "        vertical-align: middle;\n",
       "    }\n",
       "\n",
       "    .dataframe tbody tr th {\n",
       "        vertical-align: top;\n",
       "    }\n",
       "\n",
       "    .dataframe thead th {\n",
       "        text-align: right;\n",
       "    }\n",
       "</style>\n",
       "<table border=\"1\" class=\"dataframe\">\n",
       "  <thead>\n",
       "    <tr style=\"text-align: right;\">\n",
       "      <th></th>\n",
       "      <th>Anime title</th>\n",
       "      <th>Rating</th>\n",
       "    </tr>\n",
       "  </thead>\n",
       "  <tbody>\n",
       "    <tr>\n",
       "      <th>35</th>\n",
       "      <td>howl no ugoku shiro</td>\n",
       "      <td>8.74</td>\n",
       "    </tr>\n",
       "    <tr>\n",
       "      <th>4848</th>\n",
       "      <td>palme no ki</td>\n",
       "      <td>6.62</td>\n",
       "    </tr>\n",
       "    <tr>\n",
       "      <th>723</th>\n",
       "      <td>hai to gensou no grimgar</td>\n",
       "      <td>7.87</td>\n",
       "    </tr>\n",
       "    <tr>\n",
       "      <th>4001</th>\n",
       "      <td>vampire hunter</td>\n",
       "      <td>6.83</td>\n",
       "    </tr>\n",
       "    <tr>\n",
       "      <th>10663</th>\n",
       "      <td>wan wan chuushingura</td>\n",
       "      <td>6.12</td>\n",
       "    </tr>\n",
       "    <tr>\n",
       "      <th>3408</th>\n",
       "      <td>fushigi yuugi eikouden</td>\n",
       "      <td>7.00</td>\n",
       "    </tr>\n",
       "    <tr>\n",
       "      <th>210</th>\n",
       "      <td>nagi no asukara</td>\n",
       "      <td>8.32</td>\n",
       "    </tr>\n",
       "    <tr>\n",
       "      <th>2280</th>\n",
       "      <td>sekai meisaku douwa hakuchou no mizuumi</td>\n",
       "      <td>7.31</td>\n",
       "    </tr>\n",
       "    <tr>\n",
       "      <th>3390</th>\n",
       "      <td>sirius no densetsu</td>\n",
       "      <td>7.01</td>\n",
       "    </tr>\n",
       "    <tr>\n",
       "      <th>5867</th>\n",
       "      <td>kurumiwari ningyou</td>\n",
       "      <td>6.33</td>\n",
       "    </tr>\n",
       "  </tbody>\n",
       "</table>\n",
       "</div>"
      ],
      "text/plain": [
       "                                   Anime title  Rating\n",
       "35                         howl no ugoku shiro    8.74\n",
       "4848                               palme no ki    6.62\n",
       "723                   hai to gensou no grimgar    7.87\n",
       "4001                            vampire hunter    6.83\n",
       "10663                     wan wan chuushingura    6.12\n",
       "3408                    fushigi yuugi eikouden    7.00\n",
       "210                            nagi no asukara    8.32\n",
       "2280   sekai meisaku douwa hakuchou no mizuumi    7.31\n",
       "3390                        sirius no densetsu    7.01\n",
       "5867                        kurumiwari ningyou    6.33"
      ]
     },
     "execution_count": 29,
     "metadata": {},
     "output_type": "execute_result"
    }
   ],
   "source": [
    "#example 4\n",
    "anime_rec()"
   ]
  },
  {
   "cell_type": "code",
   "execution_count": 30,
   "id": "83d70931",
   "metadata": {},
   "outputs": [
    {
     "name": "stdout",
     "output_type": "stream",
     "text": [
      "Please enter anime title: kimi no na wa\n"
     ]
    },
    {
     "data": {
      "text/html": [
       "<div>\n",
       "<style scoped>\n",
       "    .dataframe tbody tr th:only-of-type {\n",
       "        vertical-align: middle;\n",
       "    }\n",
       "\n",
       "    .dataframe tbody tr th {\n",
       "        vertical-align: top;\n",
       "    }\n",
       "\n",
       "    .dataframe thead th {\n",
       "        text-align: right;\n",
       "    }\n",
       "</style>\n",
       "<table border=\"1\" class=\"dataframe\">\n",
       "  <thead>\n",
       "    <tr style=\"text-align: right;\">\n",
       "      <th></th>\n",
       "      <th>Anime title</th>\n",
       "      <th>Rating</th>\n",
       "    </tr>\n",
       "  </thead>\n",
       "  <tbody>\n",
       "    <tr>\n",
       "      <th>5803</th>\n",
       "      <td>wind a breath of heart ova</td>\n",
       "      <td>6.35</td>\n",
       "    </tr>\n",
       "    <tr>\n",
       "      <th>6391</th>\n",
       "      <td>wind a breath of heart (tv)</td>\n",
       "      <td>6.14</td>\n",
       "    </tr>\n",
       "    <tr>\n",
       "      <th>1111</th>\n",
       "      <td>aura maryuuin kouga saigo no tatakai</td>\n",
       "      <td>7.67</td>\n",
       "    </tr>\n",
       "    <tr>\n",
       "      <th>208</th>\n",
       "      <td>kokoro ga sakebitagatterunda</td>\n",
       "      <td>8.32</td>\n",
       "    </tr>\n",
       "    <tr>\n",
       "      <th>504</th>\n",
       "      <td>clannad after story  mou hitotsu no sekai, kyo...</td>\n",
       "      <td>8.02</td>\n",
       "    </tr>\n",
       "    <tr>\n",
       "      <th>1435</th>\n",
       "      <td>true tears</td>\n",
       "      <td>7.55</td>\n",
       "    </tr>\n",
       "    <tr>\n",
       "      <th>1436</th>\n",
       "      <td>bungaku shoujo memoire</td>\n",
       "      <td>7.54</td>\n",
       "    </tr>\n",
       "    <tr>\n",
       "      <th>1631</th>\n",
       "      <td>kimikiss pure rouge</td>\n",
       "      <td>7.48</td>\n",
       "    </tr>\n",
       "    <tr>\n",
       "      <th>1907</th>\n",
       "      <td>myself yourself</td>\n",
       "      <td>7.41</td>\n",
       "    </tr>\n",
       "    <tr>\n",
       "      <th>2300</th>\n",
       "      <td>koi to senkyo to chocolate</td>\n",
       "      <td>7.30</td>\n",
       "    </tr>\n",
       "  </tbody>\n",
       "</table>\n",
       "</div>"
      ],
      "text/plain": [
       "                                            Anime title  Rating\n",
       "5803                         wind a breath of heart ova    6.35\n",
       "6391                        wind a breath of heart (tv)    6.14\n",
       "1111               aura maryuuin kouga saigo no tatakai    7.67\n",
       "208                        kokoro ga sakebitagatterunda    8.32\n",
       "504   clannad after story  mou hitotsu no sekai, kyo...    8.02\n",
       "1435                                         true tears    7.55\n",
       "1436                             bungaku shoujo memoire    7.54\n",
       "1631                                kimikiss pure rouge    7.48\n",
       "1907                                    myself yourself    7.41\n",
       "2300                         koi to senkyo to chocolate    7.30"
      ]
     },
     "execution_count": 30,
     "metadata": {},
     "output_type": "execute_result"
    }
   ],
   "source": [
    "#example 5\n",
    "anime_rec()"
   ]
  },
  {
   "cell_type": "markdown",
   "id": "6fbf070b",
   "metadata": {},
   "source": [
    "**CONCLUSION**\n",
    "\n",
    "My anime recommendation system is not 100% accurate. From the examples above, we can see that the function worked for some animes but returned inaccurate for some animes. Basically, content-based recommender would outputs the most similar animes (or anything) according to user's input, the general idea behind these recommender systems is that if a person likes a particular item, he or she will also like an item that is similar to it. An example of a good content-based recommender would be Youtube."
   ]
  },
  {
   "cell_type": "markdown",
   "id": "efcc42a2",
   "metadata": {},
   "source": [
    "**REFFERENCE**\n",
    "\n",
    "1) https://www.kaggle.com/lavanyaanandm/recommending-anime-s-using-all-recommendation-sys\n",
    "\n",
    "2)https://medium.com/analytics-vidhya/anime-recommendation-engine-content-collaborative-filtering-c6e69be29d29\n",
    "\n",
    "3)https://www.datacamp.com/community/tutorials/recommender-systems-python\n",
    "\n",
    "4)https://www.machinelearningplus.com/nlp/cosine-similarity/"
   ]
  }
 ],
 "metadata": {
  "kernelspec": {
   "display_name": "Python 3",
   "language": "python",
   "name": "python3"
  },
  "language_info": {
   "codemirror_mode": {
    "name": "ipython",
    "version": 3
   },
   "file_extension": ".py",
   "mimetype": "text/x-python",
   "name": "python",
   "nbconvert_exporter": "python",
   "pygments_lexer": "ipython3",
   "version": "3.8.8"
  }
 },
 "nbformat": 4,
 "nbformat_minor": 5
}
