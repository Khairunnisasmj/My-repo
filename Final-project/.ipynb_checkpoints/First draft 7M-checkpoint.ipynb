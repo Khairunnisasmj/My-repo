{
 "cells": [
  {
   "cell_type": "markdown",
   "id": "d5d6670f",
   "metadata": {},
   "source": [
    "Data Dictionary\n",
    "1) anime_data:\n",
    "\n",
    "anime_id - unique id identifying an anime.\n",
    "\n",
    "name - full name of anime.\n",
    "\n",
    "genre - comma separated list of genres for this anime.\n",
    "\n",
    "type - movie, TV, OVA, etc.\n",
    "\n",
    "episodes - how many episodes in this show. (1 if movie).\n",
    "\n",
    "rating - average rating out of 10 for this anime.\n",
    "\n",
    "members - number of community members that are in this anime's \"group\".\n",
    "\n",
    "2) rating_data:\n",
    "\n",
    "user_id - non identifiable randomly generated user id.\n",
    "\n",
    "anime_id - the anime that this user has rated.\n",
    "\n",
    "rating - rating out of 10 this user has assigned (-1 if the user watched it but didn't assign a rating)."
   ]
  },
  {
   "cell_type": "markdown",
   "id": "c7f925bf",
   "metadata": {},
   "source": [
    "**1) Importing pandas as pd, numpy as np and matplotlib as plt**"
   ]
  },
  {
   "cell_type": "code",
   "execution_count": 1,
   "id": "bcc537f0",
   "metadata": {},
   "outputs": [],
   "source": [
    "import pandas as pd\n",
    "import numpy as np\n",
    "import matplotlib.pyplot as plt\n",
    "\n",
    "%matplotlib inline\n"
   ]
  },
  {
   "cell_type": "markdown",
   "id": "0980aeee",
   "metadata": {},
   "source": [
    "**2) Read the csv datasets (we have 2 datasets)**"
   ]
  },
  {
   "cell_type": "code",
   "execution_count": 2,
   "id": "90c14c50",
   "metadata": {
    "scrolled": true
   },
   "outputs": [
    {
     "data": {
      "text/html": [
       "<div>\n",
       "<style scoped>\n",
       "    .dataframe tbody tr th:only-of-type {\n",
       "        vertical-align: middle;\n",
       "    }\n",
       "\n",
       "    .dataframe tbody tr th {\n",
       "        vertical-align: top;\n",
       "    }\n",
       "\n",
       "    .dataframe thead th {\n",
       "        text-align: right;\n",
       "    }\n",
       "</style>\n",
       "<table border=\"1\" class=\"dataframe\">\n",
       "  <thead>\n",
       "    <tr style=\"text-align: right;\">\n",
       "      <th></th>\n",
       "      <th>anime_id</th>\n",
       "      <th>name</th>\n",
       "      <th>genre</th>\n",
       "      <th>type</th>\n",
       "      <th>episodes</th>\n",
       "      <th>rating</th>\n",
       "      <th>members</th>\n",
       "    </tr>\n",
       "  </thead>\n",
       "  <tbody>\n",
       "    <tr>\n",
       "      <th>0</th>\n",
       "      <td>32281</td>\n",
       "      <td>Kimi no Na wa.</td>\n",
       "      <td>Drama, Romance, School, Supernatural</td>\n",
       "      <td>Movie</td>\n",
       "      <td>1</td>\n",
       "      <td>9.37</td>\n",
       "      <td>200630</td>\n",
       "    </tr>\n",
       "    <tr>\n",
       "      <th>1</th>\n",
       "      <td>5114</td>\n",
       "      <td>Fullmetal Alchemist: Brotherhood</td>\n",
       "      <td>Action, Adventure, Drama, Fantasy, Magic, Mili...</td>\n",
       "      <td>TV</td>\n",
       "      <td>64</td>\n",
       "      <td>9.26</td>\n",
       "      <td>793665</td>\n",
       "    </tr>\n",
       "    <tr>\n",
       "      <th>2</th>\n",
       "      <td>28977</td>\n",
       "      <td>Gintama°</td>\n",
       "      <td>Action, Comedy, Historical, Parody, Samurai, S...</td>\n",
       "      <td>TV</td>\n",
       "      <td>51</td>\n",
       "      <td>9.25</td>\n",
       "      <td>114262</td>\n",
       "    </tr>\n",
       "    <tr>\n",
       "      <th>3</th>\n",
       "      <td>9253</td>\n",
       "      <td>Steins;Gate</td>\n",
       "      <td>Sci-Fi, Thriller</td>\n",
       "      <td>TV</td>\n",
       "      <td>24</td>\n",
       "      <td>9.17</td>\n",
       "      <td>673572</td>\n",
       "    </tr>\n",
       "    <tr>\n",
       "      <th>4</th>\n",
       "      <td>9969</td>\n",
       "      <td>Gintama&amp;#039;</td>\n",
       "      <td>Action, Comedy, Historical, Parody, Samurai, S...</td>\n",
       "      <td>TV</td>\n",
       "      <td>51</td>\n",
       "      <td>9.16</td>\n",
       "      <td>151266</td>\n",
       "    </tr>\n",
       "    <tr>\n",
       "      <th>5</th>\n",
       "      <td>32935</td>\n",
       "      <td>Haikyuu!!: Karasuno Koukou VS Shiratorizawa Ga...</td>\n",
       "      <td>Comedy, Drama, School, Shounen, Sports</td>\n",
       "      <td>TV</td>\n",
       "      <td>10</td>\n",
       "      <td>9.15</td>\n",
       "      <td>93351</td>\n",
       "    </tr>\n",
       "    <tr>\n",
       "      <th>6</th>\n",
       "      <td>11061</td>\n",
       "      <td>Hunter x Hunter (2011)</td>\n",
       "      <td>Action, Adventure, Shounen, Super Power</td>\n",
       "      <td>TV</td>\n",
       "      <td>148</td>\n",
       "      <td>9.13</td>\n",
       "      <td>425855</td>\n",
       "    </tr>\n",
       "    <tr>\n",
       "      <th>7</th>\n",
       "      <td>820</td>\n",
       "      <td>Ginga Eiyuu Densetsu</td>\n",
       "      <td>Drama, Military, Sci-Fi, Space</td>\n",
       "      <td>OVA</td>\n",
       "      <td>110</td>\n",
       "      <td>9.11</td>\n",
       "      <td>80679</td>\n",
       "    </tr>\n",
       "    <tr>\n",
       "      <th>8</th>\n",
       "      <td>15335</td>\n",
       "      <td>Gintama Movie: Kanketsu-hen - Yorozuya yo Eien...</td>\n",
       "      <td>Action, Comedy, Historical, Parody, Samurai, S...</td>\n",
       "      <td>Movie</td>\n",
       "      <td>1</td>\n",
       "      <td>9.10</td>\n",
       "      <td>72534</td>\n",
       "    </tr>\n",
       "    <tr>\n",
       "      <th>9</th>\n",
       "      <td>15417</td>\n",
       "      <td>Gintama&amp;#039;: Enchousen</td>\n",
       "      <td>Action, Comedy, Historical, Parody, Samurai, S...</td>\n",
       "      <td>TV</td>\n",
       "      <td>13</td>\n",
       "      <td>9.11</td>\n",
       "      <td>81109</td>\n",
       "    </tr>\n",
       "  </tbody>\n",
       "</table>\n",
       "</div>"
      ],
      "text/plain": [
       "   anime_id                                               name  \\\n",
       "0     32281                                     Kimi no Na wa.   \n",
       "1      5114                   Fullmetal Alchemist: Brotherhood   \n",
       "2     28977                                           Gintama°   \n",
       "3      9253                                        Steins;Gate   \n",
       "4      9969                                      Gintama&#039;   \n",
       "5     32935  Haikyuu!!: Karasuno Koukou VS Shiratorizawa Ga...   \n",
       "6     11061                             Hunter x Hunter (2011)   \n",
       "7       820                               Ginga Eiyuu Densetsu   \n",
       "8     15335  Gintama Movie: Kanketsu-hen - Yorozuya yo Eien...   \n",
       "9     15417                           Gintama&#039;: Enchousen   \n",
       "\n",
       "                                               genre   type episodes  rating  \\\n",
       "0               Drama, Romance, School, Supernatural  Movie        1    9.37   \n",
       "1  Action, Adventure, Drama, Fantasy, Magic, Mili...     TV       64    9.26   \n",
       "2  Action, Comedy, Historical, Parody, Samurai, S...     TV       51    9.25   \n",
       "3                                   Sci-Fi, Thriller     TV       24    9.17   \n",
       "4  Action, Comedy, Historical, Parody, Samurai, S...     TV       51    9.16   \n",
       "5             Comedy, Drama, School, Shounen, Sports     TV       10    9.15   \n",
       "6            Action, Adventure, Shounen, Super Power     TV      148    9.13   \n",
       "7                     Drama, Military, Sci-Fi, Space    OVA      110    9.11   \n",
       "8  Action, Comedy, Historical, Parody, Samurai, S...  Movie        1    9.10   \n",
       "9  Action, Comedy, Historical, Parody, Samurai, S...     TV       13    9.11   \n",
       "\n",
       "   members  \n",
       "0   200630  \n",
       "1   793665  \n",
       "2   114262  \n",
       "3   673572  \n",
       "4   151266  \n",
       "5    93351  \n",
       "6   425855  \n",
       "7    80679  \n",
       "8    72534  \n",
       "9    81109  "
      ]
     },
     "execution_count": 2,
     "metadata": {},
     "output_type": "execute_result"
    }
   ],
   "source": [
    "ori_anime = pd.read_csv('anime.csv')\n",
    "ori_anime.head(10)"
   ]
  },
  {
   "cell_type": "code",
   "execution_count": 3,
   "id": "e1c09535",
   "metadata": {
    "scrolled": true
   },
   "outputs": [
    {
     "name": "stdout",
     "output_type": "stream",
     "text": [
      "<class 'pandas.core.frame.DataFrame'>\n",
      "RangeIndex: 12294 entries, 0 to 12293\n",
      "Data columns (total 7 columns):\n",
      " #   Column    Non-Null Count  Dtype  \n",
      "---  ------    --------------  -----  \n",
      " 0   anime_id  12294 non-null  int64  \n",
      " 1   name      12294 non-null  object \n",
      " 2   genre     12232 non-null  object \n",
      " 3   type      12269 non-null  object \n",
      " 4   episodes  12294 non-null  object \n",
      " 5   rating    12064 non-null  float64\n",
      " 6   members   12294 non-null  int64  \n",
      "dtypes: float64(1), int64(2), object(4)\n",
      "memory usage: 672.5+ KB\n"
     ]
    }
   ],
   "source": [
    "ori_anime.info()"
   ]
  },
  {
   "cell_type": "code",
   "execution_count": 4,
   "id": "83ab381b",
   "metadata": {},
   "outputs": [
    {
     "data": {
      "text/plain": [
       "(12294, 7)"
      ]
     },
     "execution_count": 4,
     "metadata": {},
     "output_type": "execute_result"
    }
   ],
   "source": [
    "ori_anime.shape"
   ]
  },
  {
   "cell_type": "code",
   "execution_count": 5,
   "id": "6a3f054a",
   "metadata": {},
   "outputs": [
    {
     "data": {
      "text/html": [
       "<div>\n",
       "<style scoped>\n",
       "    .dataframe tbody tr th:only-of-type {\n",
       "        vertical-align: middle;\n",
       "    }\n",
       "\n",
       "    .dataframe tbody tr th {\n",
       "        vertical-align: top;\n",
       "    }\n",
       "\n",
       "    .dataframe thead th {\n",
       "        text-align: right;\n",
       "    }\n",
       "</style>\n",
       "<table border=\"1\" class=\"dataframe\">\n",
       "  <thead>\n",
       "    <tr style=\"text-align: right;\">\n",
       "      <th></th>\n",
       "      <th>user_id</th>\n",
       "      <th>anime_id</th>\n",
       "      <th>rating</th>\n",
       "    </tr>\n",
       "  </thead>\n",
       "  <tbody>\n",
       "    <tr>\n",
       "      <th>0</th>\n",
       "      <td>1</td>\n",
       "      <td>20</td>\n",
       "      <td>-1</td>\n",
       "    </tr>\n",
       "    <tr>\n",
       "      <th>1</th>\n",
       "      <td>1</td>\n",
       "      <td>24</td>\n",
       "      <td>-1</td>\n",
       "    </tr>\n",
       "    <tr>\n",
       "      <th>2</th>\n",
       "      <td>1</td>\n",
       "      <td>79</td>\n",
       "      <td>-1</td>\n",
       "    </tr>\n",
       "    <tr>\n",
       "      <th>3</th>\n",
       "      <td>1</td>\n",
       "      <td>226</td>\n",
       "      <td>-1</td>\n",
       "    </tr>\n",
       "    <tr>\n",
       "      <th>4</th>\n",
       "      <td>1</td>\n",
       "      <td>241</td>\n",
       "      <td>-1</td>\n",
       "    </tr>\n",
       "    <tr>\n",
       "      <th>5</th>\n",
       "      <td>1</td>\n",
       "      <td>355</td>\n",
       "      <td>-1</td>\n",
       "    </tr>\n",
       "    <tr>\n",
       "      <th>6</th>\n",
       "      <td>1</td>\n",
       "      <td>356</td>\n",
       "      <td>-1</td>\n",
       "    </tr>\n",
       "    <tr>\n",
       "      <th>7</th>\n",
       "      <td>1</td>\n",
       "      <td>442</td>\n",
       "      <td>-1</td>\n",
       "    </tr>\n",
       "    <tr>\n",
       "      <th>8</th>\n",
       "      <td>1</td>\n",
       "      <td>487</td>\n",
       "      <td>-1</td>\n",
       "    </tr>\n",
       "    <tr>\n",
       "      <th>9</th>\n",
       "      <td>1</td>\n",
       "      <td>846</td>\n",
       "      <td>-1</td>\n",
       "    </tr>\n",
       "  </tbody>\n",
       "</table>\n",
       "</div>"
      ],
      "text/plain": [
       "   user_id  anime_id  rating\n",
       "0        1        20      -1\n",
       "1        1        24      -1\n",
       "2        1        79      -1\n",
       "3        1       226      -1\n",
       "4        1       241      -1\n",
       "5        1       355      -1\n",
       "6        1       356      -1\n",
       "7        1       442      -1\n",
       "8        1       487      -1\n",
       "9        1       846      -1"
      ]
     },
     "execution_count": 5,
     "metadata": {},
     "output_type": "execute_result"
    }
   ],
   "source": [
    "ori_rating = pd.read_csv('rating.csv')\n",
    "ori_rating.head(10)"
   ]
  },
  {
   "cell_type": "code",
   "execution_count": 6,
   "id": "c9bdec33",
   "metadata": {
    "scrolled": true
   },
   "outputs": [
    {
     "name": "stdout",
     "output_type": "stream",
     "text": [
      "<class 'pandas.core.frame.DataFrame'>\n",
      "RangeIndex: 7813737 entries, 0 to 7813736\n",
      "Data columns (total 3 columns):\n",
      " #   Column    Dtype\n",
      "---  ------    -----\n",
      " 0   user_id   int64\n",
      " 1   anime_id  int64\n",
      " 2   rating    int64\n",
      "dtypes: int64(3)\n",
      "memory usage: 178.8 MB\n"
     ]
    }
   ],
   "source": [
    "ori_rating.info()"
   ]
  },
  {
   "cell_type": "code",
   "execution_count": 7,
   "id": "27c6742c",
   "metadata": {
    "scrolled": true
   },
   "outputs": [
    {
     "data": {
      "text/plain": [
       "(7813737, 3)"
      ]
     },
     "execution_count": 7,
     "metadata": {},
     "output_type": "execute_result"
    }
   ],
   "source": [
    "ori_rating.shape"
   ]
  },
  {
   "cell_type": "markdown",
   "id": "00d71fd1",
   "metadata": {},
   "source": [
    "**3) Modify necessary datas of the datasets**"
   ]
  },
  {
   "cell_type": "markdown",
   "id": "42d11b4b",
   "metadata": {},
   "source": [
    "3.1 Data Cleaning"
   ]
  },
  {
   "cell_type": "code",
   "execution_count": 8,
   "id": "8fd2fa92",
   "metadata": {},
   "outputs": [
    {
     "data": {
      "text/plain": [
       "array(['Steins;Gate', 'Gintama&#039;',\n",
       "       'Haikyuu!!: Karasuno Koukou VS Shiratorizawa Gakuen Koukou',\n",
       "       'Hunter x Hunter (2011)', 'Ginga Eiyuu Densetsu',\n",
       "       'Gintama Movie: Kanketsu-hen - Yorozuya yo Eien Nare',\n",
       "       'Gintama&#039;: Enchousen'], dtype=object)"
      ]
     },
     "execution_count": 8,
     "metadata": {},
     "output_type": "execute_result"
    }
   ],
   "source": [
    "ori_anime['name'][3:10].unique()"
   ]
  },
  {
   "cell_type": "code",
   "execution_count": 9,
   "id": "7cceeb60",
   "metadata": {},
   "outputs": [],
   "source": [
    "#import re to clean above data\n",
    "import re"
   ]
  },
  {
   "cell_type": "code",
   "execution_count": 10,
   "id": "1f59332c",
   "metadata": {},
   "outputs": [],
   "source": [
    "def text_cleaning(text):\n",
    "    text = re.sub(r'&quot;', '', text)\n",
    "    text = re.sub(r'.hack//', '', text)\n",
    "    text = re.sub(r'&#039;', '', text)\n",
    "    text = re.sub(r'A&#039;s', '', text)\n",
    "    text = re.sub(r'I&#039;', 'I\\'', text)\n",
    "    text = re.sub(r'&amp;', 'and', text)\n",
    "    text = re.sub(r'[;!!:-]','',text)\n",
    "    \n",
    "    return text\n",
    "\n",
    "ori_anime['name'] = ori_anime['name'].apply(text_cleaning)"
   ]
  },
  {
   "cell_type": "code",
   "execution_count": 11,
   "id": "925bfd5b",
   "metadata": {},
   "outputs": [],
   "source": [
    "ori_anime['name'] = ori_anime['name'].apply(text_cleaning)"
   ]
  },
  {
   "cell_type": "code",
   "execution_count": 12,
   "id": "79fc58a8",
   "metadata": {},
   "outputs": [
    {
     "data": {
      "text/plain": [
       "array(['SteinsGate', 'Gintama',\n",
       "       'Haikyuu Karasuno Koukou VS Shiratorizawa Gakuen Koukou',\n",
       "       'Hunter x Hunter (2011)', 'Ginga Eiyuu Densetsu',\n",
       "       'Gintama Movie Kanketsuhen  Yorozuya yo Eien Nare',\n",
       "       'Gintama Enchousen'], dtype=object)"
      ]
     },
     "execution_count": 12,
     "metadata": {},
     "output_type": "execute_result"
    }
   ],
   "source": [
    "ori_anime['name'][3:10].unique()\n",
    "#now the title dont contain any special symbol"
   ]
  },
  {
   "cell_type": "code",
   "execution_count": 13,
   "id": "f7c15b30",
   "metadata": {},
   "outputs": [
    {
     "data": {
      "text/plain": [
       "array(['1', '64', '51', '24', '10', '148', '110', '13', '201', '25', '22',\n",
       "       '75', '4', '26', '12', '27', '43', '74', '37', '2', '11', '99',\n",
       "       'Unknown', '39', '101', '47', '50', '62', '33', '112', '23', '3',\n",
       "       '94', '6', '8', '14', '7', '40', '15', '203', '77', '291', '120',\n",
       "       '102', '96', '38', '79', '175', '103', '70', '153', '45', '5',\n",
       "       '21', '63', '52', '28', '145', '36', '69', '60', '178', '114',\n",
       "       '35', '61', '34', '109', '20', '9', '49', '366', '97', '48', '78',\n",
       "       '358', '155', '104', '113', '54', '167', '161', '42', '142', '31',\n",
       "       '373', '220', '46', '195', '17', '1787', '73', '147', '127', '16',\n",
       "       '19', '98', '150', '76', '53', '124', '29', '115', '224', '44',\n",
       "       '58', '93', '154', '92', '67', '172', '86', '30', '276', '59',\n",
       "       '72', '330', '41', '105', '128', '137', '56', '55', '65', '243',\n",
       "       '193', '18', '191', '180', '91', '192', '66', '182', '32', '164',\n",
       "       '100', '296', '694', '95', '68', '117', '151', '130', '87', '170',\n",
       "       '119', '84', '108', '156', '140', '331', '305', '300', '510',\n",
       "       '200', '88', '1471', '526', '143', '726', '136', '1818', '237',\n",
       "       '1428', '365', '163', '283', '71', '260', '199', '225', '312',\n",
       "       '240', '1306', '1565', '773', '1274', '90', '475', '263', '83',\n",
       "       '85', '1006', '80', '162', '132', '141', '125'], dtype=object)"
      ]
     },
     "execution_count": 13,
     "metadata": {},
     "output_type": "execute_result"
    }
   ],
   "source": [
    "#checking the episodes\n",
    "ori_anime['episodes'].unique()"
   ]
  },
  {
   "cell_type": "code",
   "execution_count": 14,
   "id": "81b31632",
   "metadata": {},
   "outputs": [],
   "source": [
    "#replace 'unknown' with nan instead\n",
    "ori_anime['episodes'].replace({'unknown':np.nan},inplace =True)"
   ]
  },
  {
   "cell_type": "markdown",
   "id": "aa88698d",
   "metadata": {},
   "source": [
    "**4) Merge both datasets so we only have 1 datasets that contain all required columns**"
   ]
  },
  {
   "cell_type": "code",
   "execution_count": 15,
   "id": "243a992f",
   "metadata": {
    "scrolled": true
   },
   "outputs": [
    {
     "data": {
      "text/html": [
       "<div>\n",
       "<style scoped>\n",
       "    .dataframe tbody tr th:only-of-type {\n",
       "        vertical-align: middle;\n",
       "    }\n",
       "\n",
       "    .dataframe tbody tr th {\n",
       "        vertical-align: top;\n",
       "    }\n",
       "\n",
       "    .dataframe thead th {\n",
       "        text-align: right;\n",
       "    }\n",
       "</style>\n",
       "<table border=\"1\" class=\"dataframe\">\n",
       "  <thead>\n",
       "    <tr style=\"text-align: right;\">\n",
       "      <th></th>\n",
       "      <th>anime_id</th>\n",
       "      <th>title</th>\n",
       "      <th>genre</th>\n",
       "      <th>type</th>\n",
       "      <th>episodes</th>\n",
       "      <th>avg_rating</th>\n",
       "      <th>members</th>\n",
       "      <th>user_id</th>\n",
       "      <th>user_rating</th>\n",
       "    </tr>\n",
       "  </thead>\n",
       "  <tbody>\n",
       "    <tr>\n",
       "      <th>0</th>\n",
       "      <td>32281</td>\n",
       "      <td>Kimi no Na wa.</td>\n",
       "      <td>Drama, Romance, School, Supernatural</td>\n",
       "      <td>Movie</td>\n",
       "      <td>1</td>\n",
       "      <td>9.37</td>\n",
       "      <td>200630</td>\n",
       "      <td>99</td>\n",
       "      <td>5</td>\n",
       "    </tr>\n",
       "    <tr>\n",
       "      <th>1</th>\n",
       "      <td>32281</td>\n",
       "      <td>Kimi no Na wa.</td>\n",
       "      <td>Drama, Romance, School, Supernatural</td>\n",
       "      <td>Movie</td>\n",
       "      <td>1</td>\n",
       "      <td>9.37</td>\n",
       "      <td>200630</td>\n",
       "      <td>152</td>\n",
       "      <td>10</td>\n",
       "    </tr>\n",
       "    <tr>\n",
       "      <th>2</th>\n",
       "      <td>32281</td>\n",
       "      <td>Kimi no Na wa.</td>\n",
       "      <td>Drama, Romance, School, Supernatural</td>\n",
       "      <td>Movie</td>\n",
       "      <td>1</td>\n",
       "      <td>9.37</td>\n",
       "      <td>200630</td>\n",
       "      <td>244</td>\n",
       "      <td>10</td>\n",
       "    </tr>\n",
       "    <tr>\n",
       "      <th>3</th>\n",
       "      <td>32281</td>\n",
       "      <td>Kimi no Na wa.</td>\n",
       "      <td>Drama, Romance, School, Supernatural</td>\n",
       "      <td>Movie</td>\n",
       "      <td>1</td>\n",
       "      <td>9.37</td>\n",
       "      <td>200630</td>\n",
       "      <td>271</td>\n",
       "      <td>10</td>\n",
       "    </tr>\n",
       "    <tr>\n",
       "      <th>4</th>\n",
       "      <td>32281</td>\n",
       "      <td>Kimi no Na wa.</td>\n",
       "      <td>Drama, Romance, School, Supernatural</td>\n",
       "      <td>Movie</td>\n",
       "      <td>1</td>\n",
       "      <td>9.37</td>\n",
       "      <td>200630</td>\n",
       "      <td>278</td>\n",
       "      <td>-1</td>\n",
       "    </tr>\n",
       "  </tbody>\n",
       "</table>\n",
       "</div>"
      ],
      "text/plain": [
       "   anime_id           title                                 genre   type  \\\n",
       "0     32281  Kimi no Na wa.  Drama, Romance, School, Supernatural  Movie   \n",
       "1     32281  Kimi no Na wa.  Drama, Romance, School, Supernatural  Movie   \n",
       "2     32281  Kimi no Na wa.  Drama, Romance, School, Supernatural  Movie   \n",
       "3     32281  Kimi no Na wa.  Drama, Romance, School, Supernatural  Movie   \n",
       "4     32281  Kimi no Na wa.  Drama, Romance, School, Supernatural  Movie   \n",
       "\n",
       "  episodes  avg_rating  members  user_id  user_rating  \n",
       "0        1        9.37   200630       99            5  \n",
       "1        1        9.37   200630      152           10  \n",
       "2        1        9.37   200630      244           10  \n",
       "3        1        9.37   200630      271           10  \n",
       "4        1        9.37   200630      278           -1  "
      ]
     },
     "execution_count": 15,
     "metadata": {},
     "output_type": "execute_result"
    }
   ],
   "source": [
    "anime_fulldata = pd.merge(ori_anime,ori_rating,on = 'anime_id')\n",
    "anime_fulldata = anime_fulldata.rename(columns={'name': 'title','rating_x':'avg_rating','rating_y':'user_rating'})\n",
    "anime_fulldata.head()"
   ]
  },
  {
   "cell_type": "code",
   "execution_count": 16,
   "id": "18d8effb",
   "metadata": {},
   "outputs": [
    {
     "data": {
      "text/plain": [
       "(7813727, 9)"
      ]
     },
     "execution_count": 16,
     "metadata": {},
     "output_type": "execute_result"
    }
   ],
   "source": [
    "anime_fulldata.shape"
   ]
  },
  {
   "cell_type": "markdown",
   "id": "c2b4d1d5",
   "metadata": {},
   "source": [
    "**5) Dealing with missing values**"
   ]
  },
  {
   "cell_type": "code",
   "execution_count": 17,
   "id": "5fa54903",
   "metadata": {},
   "outputs": [
    {
     "data": {
      "text/plain": [
       "anime_id         0\n",
       "title            0\n",
       "genre          110\n",
       "type             4\n",
       "episodes         0\n",
       "avg_rating       6\n",
       "members          0\n",
       "user_id          0\n",
       "user_rating      0\n",
       "dtype: int64"
      ]
     },
     "execution_count": 17,
     "metadata": {},
     "output_type": "execute_result"
    }
   ],
   "source": [
    "anime_fulldata.isnull().sum()"
   ]
  },
  {
   "cell_type": "code",
   "execution_count": 18,
   "id": "0f2a5997",
   "metadata": {},
   "outputs": [
    {
     "data": {
      "text/plain": [
       "anime_id       0\n",
       "title          0\n",
       "genre          0\n",
       "type           0\n",
       "episodes       0\n",
       "avg_rating     0\n",
       "members        0\n",
       "user_id        0\n",
       "user_rating    0\n",
       "dtype: int64"
      ]
     },
     "execution_count": 18,
     "metadata": {},
     "output_type": "execute_result"
    }
   ],
   "source": [
    "#remove/drop all null value because its not needed\n",
    "anime_fulldata.dropna(inplace=True)\n",
    "anime_fulldata.isnull().sum()"
   ]
  },
  {
   "cell_type": "code",
   "execution_count": 19,
   "id": "31c82b55",
   "metadata": {},
   "outputs": [
    {
     "name": "stdout",
     "output_type": "stream",
     "text": [
      "There are 7 duplicated rows in the data\n"
     ]
    }
   ],
   "source": [
    "#remove any duplicated data,start by checking for any duplication\n",
    "duplicate_data = anime_fulldata.duplicated(subset=['anime_id','user_id']).sum()\n",
    "print('There are {} duplicated rows in the data'.format(duplicate_data))"
   ]
  },
  {
   "cell_type": "code",
   "execution_count": 20,
   "id": "e073d43a",
   "metadata": {},
   "outputs": [],
   "source": [
    "anime_fulldata.drop_duplicates(subset=['anime_id','user_id'],inplace =True)"
   ]
  },
  {
   "cell_type": "code",
   "execution_count": 21,
   "id": "eee20ce9",
   "metadata": {
    "scrolled": true
   },
   "outputs": [
    {
     "name": "stdout",
     "output_type": "stream",
     "text": [
      "There are 0 duplicated rows in the data\n"
     ]
    }
   ],
   "source": [
    "duplicate_data = anime_fulldata.duplicated(subset=['anime_id','user_id']).sum()\n",
    "print('There are {} duplicated rows in the data'.format(duplicate_data))"
   ]
  },
  {
   "cell_type": "code",
   "execution_count": 22,
   "id": "47f52830",
   "metadata": {},
   "outputs": [
    {
     "data": {
      "text/plain": [
       "(7813604, 9)"
      ]
     },
     "execution_count": 22,
     "metadata": {},
     "output_type": "execute_result"
    }
   ],
   "source": [
    "anime_fulldata.shape"
   ]
  },
  {
   "cell_type": "code",
   "execution_count": 23,
   "id": "7c9ee1fa",
   "metadata": {},
   "outputs": [
    {
     "data": {
      "text/html": [
       "<div>\n",
       "<style scoped>\n",
       "    .dataframe tbody tr th:only-of-type {\n",
       "        vertical-align: middle;\n",
       "    }\n",
       "\n",
       "    .dataframe tbody tr th {\n",
       "        vertical-align: top;\n",
       "    }\n",
       "\n",
       "    .dataframe thead th {\n",
       "        text-align: right;\n",
       "    }\n",
       "</style>\n",
       "<table border=\"1\" class=\"dataframe\">\n",
       "  <thead>\n",
       "    <tr style=\"text-align: right;\">\n",
       "      <th></th>\n",
       "      <th>anime_id</th>\n",
       "      <th>title</th>\n",
       "      <th>genre</th>\n",
       "      <th>type</th>\n",
       "      <th>episodes</th>\n",
       "      <th>avg_rating</th>\n",
       "      <th>members</th>\n",
       "      <th>user_id</th>\n",
       "      <th>user_rating</th>\n",
       "    </tr>\n",
       "  </thead>\n",
       "  <tbody>\n",
       "    <tr>\n",
       "      <th>7813722</th>\n",
       "      <td>6133</td>\n",
       "      <td>Violence Gekiga Shin David no Hoshi Inma Densetsu</td>\n",
       "      <td>Hentai</td>\n",
       "      <td>OVA</td>\n",
       "      <td>1</td>\n",
       "      <td>4.98</td>\n",
       "      <td>175</td>\n",
       "      <td>39532</td>\n",
       "      <td>-1</td>\n",
       "    </tr>\n",
       "    <tr>\n",
       "      <th>7813723</th>\n",
       "      <td>6133</td>\n",
       "      <td>Violence Gekiga Shin David no Hoshi Inma Densetsu</td>\n",
       "      <td>Hentai</td>\n",
       "      <td>OVA</td>\n",
       "      <td>1</td>\n",
       "      <td>4.98</td>\n",
       "      <td>175</td>\n",
       "      <td>48766</td>\n",
       "      <td>-1</td>\n",
       "    </tr>\n",
       "    <tr>\n",
       "      <th>7813724</th>\n",
       "      <td>6133</td>\n",
       "      <td>Violence Gekiga Shin David no Hoshi Inma Densetsu</td>\n",
       "      <td>Hentai</td>\n",
       "      <td>OVA</td>\n",
       "      <td>1</td>\n",
       "      <td>4.98</td>\n",
       "      <td>175</td>\n",
       "      <td>60365</td>\n",
       "      <td>4</td>\n",
       "    </tr>\n",
       "    <tr>\n",
       "      <th>7813725</th>\n",
       "      <td>26081</td>\n",
       "      <td>Yasuji no Pornorama Yacchimae</td>\n",
       "      <td>Hentai</td>\n",
       "      <td>Movie</td>\n",
       "      <td>1</td>\n",
       "      <td>5.46</td>\n",
       "      <td>142</td>\n",
       "      <td>27364</td>\n",
       "      <td>-1</td>\n",
       "    </tr>\n",
       "    <tr>\n",
       "      <th>7813726</th>\n",
       "      <td>26081</td>\n",
       "      <td>Yasuji no Pornorama Yacchimae</td>\n",
       "      <td>Hentai</td>\n",
       "      <td>Movie</td>\n",
       "      <td>1</td>\n",
       "      <td>5.46</td>\n",
       "      <td>142</td>\n",
       "      <td>48766</td>\n",
       "      <td>-1</td>\n",
       "    </tr>\n",
       "  </tbody>\n",
       "</table>\n",
       "</div>"
      ],
      "text/plain": [
       "         anime_id                                              title   genre  \\\n",
       "7813722      6133  Violence Gekiga Shin David no Hoshi Inma Densetsu  Hentai   \n",
       "7813723      6133  Violence Gekiga Shin David no Hoshi Inma Densetsu  Hentai   \n",
       "7813724      6133  Violence Gekiga Shin David no Hoshi Inma Densetsu  Hentai   \n",
       "7813725     26081                      Yasuji no Pornorama Yacchimae  Hentai   \n",
       "7813726     26081                      Yasuji no Pornorama Yacchimae  Hentai   \n",
       "\n",
       "          type episodes  avg_rating  members  user_id  user_rating  \n",
       "7813722    OVA        1        4.98      175    39532           -1  \n",
       "7813723    OVA        1        4.98      175    48766           -1  \n",
       "7813724    OVA        1        4.98      175    60365            4  \n",
       "7813725  Movie        1        5.46      142    27364           -1  \n",
       "7813726  Movie        1        5.46      142    48766           -1  "
      ]
     },
     "execution_count": 23,
     "metadata": {},
     "output_type": "execute_result"
    }
   ],
   "source": [
    "anime_fulldata.tail()"
   ]
  },
  {
   "cell_type": "markdown",
   "id": "9f2ab05e",
   "metadata": {},
   "source": [
    "As a result of removing rows/values, the last index should be 7813603 as per the rows remained but its still 7813726. So, the indexing should be reset"
   ]
  },
  {
   "cell_type": "code",
   "execution_count": 24,
   "id": "1fe41959",
   "metadata": {},
   "outputs": [
    {
     "data": {
      "text/html": [
       "<div>\n",
       "<style scoped>\n",
       "    .dataframe tbody tr th:only-of-type {\n",
       "        vertical-align: middle;\n",
       "    }\n",
       "\n",
       "    .dataframe tbody tr th {\n",
       "        vertical-align: top;\n",
       "    }\n",
       "\n",
       "    .dataframe thead th {\n",
       "        text-align: right;\n",
       "    }\n",
       "</style>\n",
       "<table border=\"1\" class=\"dataframe\">\n",
       "  <thead>\n",
       "    <tr style=\"text-align: right;\">\n",
       "      <th></th>\n",
       "      <th>anime_id</th>\n",
       "      <th>title</th>\n",
       "      <th>genre</th>\n",
       "      <th>type</th>\n",
       "      <th>episodes</th>\n",
       "      <th>avg_rating</th>\n",
       "      <th>members</th>\n",
       "      <th>user_id</th>\n",
       "      <th>user_rating</th>\n",
       "    </tr>\n",
       "  </thead>\n",
       "  <tbody>\n",
       "    <tr>\n",
       "      <th>7813599</th>\n",
       "      <td>6133</td>\n",
       "      <td>Violence Gekiga Shin David no Hoshi Inma Densetsu</td>\n",
       "      <td>Hentai</td>\n",
       "      <td>OVA</td>\n",
       "      <td>1</td>\n",
       "      <td>4.98</td>\n",
       "      <td>175</td>\n",
       "      <td>39532</td>\n",
       "      <td>-1</td>\n",
       "    </tr>\n",
       "    <tr>\n",
       "      <th>7813600</th>\n",
       "      <td>6133</td>\n",
       "      <td>Violence Gekiga Shin David no Hoshi Inma Densetsu</td>\n",
       "      <td>Hentai</td>\n",
       "      <td>OVA</td>\n",
       "      <td>1</td>\n",
       "      <td>4.98</td>\n",
       "      <td>175</td>\n",
       "      <td>48766</td>\n",
       "      <td>-1</td>\n",
       "    </tr>\n",
       "    <tr>\n",
       "      <th>7813601</th>\n",
       "      <td>6133</td>\n",
       "      <td>Violence Gekiga Shin David no Hoshi Inma Densetsu</td>\n",
       "      <td>Hentai</td>\n",
       "      <td>OVA</td>\n",
       "      <td>1</td>\n",
       "      <td>4.98</td>\n",
       "      <td>175</td>\n",
       "      <td>60365</td>\n",
       "      <td>4</td>\n",
       "    </tr>\n",
       "    <tr>\n",
       "      <th>7813602</th>\n",
       "      <td>26081</td>\n",
       "      <td>Yasuji no Pornorama Yacchimae</td>\n",
       "      <td>Hentai</td>\n",
       "      <td>Movie</td>\n",
       "      <td>1</td>\n",
       "      <td>5.46</td>\n",
       "      <td>142</td>\n",
       "      <td>27364</td>\n",
       "      <td>-1</td>\n",
       "    </tr>\n",
       "    <tr>\n",
       "      <th>7813603</th>\n",
       "      <td>26081</td>\n",
       "      <td>Yasuji no Pornorama Yacchimae</td>\n",
       "      <td>Hentai</td>\n",
       "      <td>Movie</td>\n",
       "      <td>1</td>\n",
       "      <td>5.46</td>\n",
       "      <td>142</td>\n",
       "      <td>48766</td>\n",
       "      <td>-1</td>\n",
       "    </tr>\n",
       "  </tbody>\n",
       "</table>\n",
       "</div>"
      ],
      "text/plain": [
       "         anime_id                                              title   genre  \\\n",
       "7813599      6133  Violence Gekiga Shin David no Hoshi Inma Densetsu  Hentai   \n",
       "7813600      6133  Violence Gekiga Shin David no Hoshi Inma Densetsu  Hentai   \n",
       "7813601      6133  Violence Gekiga Shin David no Hoshi Inma Densetsu  Hentai   \n",
       "7813602     26081                      Yasuji no Pornorama Yacchimae  Hentai   \n",
       "7813603     26081                      Yasuji no Pornorama Yacchimae  Hentai   \n",
       "\n",
       "          type episodes  avg_rating  members  user_id  user_rating  \n",
       "7813599    OVA        1        4.98      175    39532           -1  \n",
       "7813600    OVA        1        4.98      175    48766           -1  \n",
       "7813601    OVA        1        4.98      175    60365            4  \n",
       "7813602  Movie        1        5.46      142    27364           -1  \n",
       "7813603  Movie        1        5.46      142    48766           -1  "
      ]
     },
     "execution_count": 24,
     "metadata": {},
     "output_type": "execute_result"
    }
   ],
   "source": [
    "anime_fulldata.reset_index(drop = True,inplace=True)\n",
    "anime_fulldata.tail()"
   ]
  },
  {
   "cell_type": "markdown",
   "id": "1d432154",
   "metadata": {},
   "source": [
    "**6) Checking the data statistics and modify if necessary**"
   ]
  },
  {
   "cell_type": "markdown",
   "id": "bfded403",
   "metadata": {},
   "source": [
    "But first, change anime_id and user_id into object"
   ]
  },
  {
   "cell_type": "code",
   "execution_count": 25,
   "id": "428d50dd",
   "metadata": {},
   "outputs": [],
   "source": [
    "anime_fulldata['anime_id'] = anime_fulldata['anime_id'].astype(object)\n",
    "anime_fulldata['user_id'] = anime_fulldata['user_id'].astype(object)"
   ]
  },
  {
   "cell_type": "code",
   "execution_count": 28,
   "id": "99e4b706",
   "metadata": {},
   "outputs": [
    {
     "data": {
      "text/html": [
       "<div>\n",
       "<style scoped>\n",
       "    .dataframe tbody tr th:only-of-type {\n",
       "        vertical-align: middle;\n",
       "    }\n",
       "\n",
       "    .dataframe tbody tr th {\n",
       "        vertical-align: top;\n",
       "    }\n",
       "\n",
       "    .dataframe thead th {\n",
       "        text-align: right;\n",
       "    }\n",
       "</style>\n",
       "<table border=\"1\" class=\"dataframe\">\n",
       "  <thead>\n",
       "    <tr style=\"text-align: right;\">\n",
       "      <th></th>\n",
       "      <th>avg_rating</th>\n",
       "      <th>members</th>\n",
       "      <th>user_rating</th>\n",
       "    </tr>\n",
       "  </thead>\n",
       "  <tbody>\n",
       "    <tr>\n",
       "      <th>count</th>\n",
       "      <td>7813604.00</td>\n",
       "      <td>7813604.00</td>\n",
       "      <td>7813604.00</td>\n",
       "    </tr>\n",
       "    <tr>\n",
       "      <th>mean</th>\n",
       "      <td>7.65</td>\n",
       "      <td>178622.98</td>\n",
       "      <td>6.14</td>\n",
       "    </tr>\n",
       "    <tr>\n",
       "      <th>std</th>\n",
       "      <td>0.67</td>\n",
       "      <td>188176.08</td>\n",
       "      <td>3.73</td>\n",
       "    </tr>\n",
       "    <tr>\n",
       "      <th>min</th>\n",
       "      <td>1.67</td>\n",
       "      <td>29.00</td>\n",
       "      <td>-1.00</td>\n",
       "    </tr>\n",
       "    <tr>\n",
       "      <th>25%</th>\n",
       "      <td>7.27</td>\n",
       "      <td>44030.00</td>\n",
       "      <td>6.00</td>\n",
       "    </tr>\n",
       "    <tr>\n",
       "      <th>50%</th>\n",
       "      <td>7.68</td>\n",
       "      <td>110470.00</td>\n",
       "      <td>7.00</td>\n",
       "    </tr>\n",
       "    <tr>\n",
       "      <th>75%</th>\n",
       "      <td>8.13</td>\n",
       "      <td>244268.00</td>\n",
       "      <td>9.00</td>\n",
       "    </tr>\n",
       "    <tr>\n",
       "      <th>max</th>\n",
       "      <td>9.50</td>\n",
       "      <td>1013917.00</td>\n",
       "      <td>10.00</td>\n",
       "    </tr>\n",
       "  </tbody>\n",
       "</table>\n",
       "</div>"
      ],
      "text/plain": [
       "       avg_rating    members  user_rating\n",
       "count  7813604.00 7813604.00   7813604.00\n",
       "mean         7.65  178622.98         6.14\n",
       "std          0.67  188176.08         3.73\n",
       "min          1.67      29.00        -1.00\n",
       "25%          7.27   44030.00         6.00\n",
       "50%          7.68  110470.00         7.00\n",
       "75%          8.13  244268.00         9.00\n",
       "max          9.50 1013917.00        10.00"
      ]
     },
     "execution_count": 28,
     "metadata": {},
     "output_type": "execute_result"
    }
   ],
   "source": [
    "pd.options.display.float_format = '{:.2f}'.format #to print the number as a whole instead of having +/-(value) at the end\n",
    "anime_fulldata.describe()"
   ]
  },
  {
   "cell_type": "markdown",
   "id": "2873f2a4",
   "metadata": {},
   "source": [
    "Beacuse rating of -1 means the user did not assign a rating for the movies so lets change it to 0 "
   ]
  },
  {
   "cell_type": "code",
   "execution_count": 36,
   "id": "5cad7ce0",
   "metadata": {},
   "outputs": [
    {
     "data": {
      "text/html": [
       "<div>\n",
       "<style scoped>\n",
       "    .dataframe tbody tr th:only-of-type {\n",
       "        vertical-align: middle;\n",
       "    }\n",
       "\n",
       "    .dataframe tbody tr th {\n",
       "        vertical-align: top;\n",
       "    }\n",
       "\n",
       "    .dataframe thead th {\n",
       "        text-align: right;\n",
       "    }\n",
       "</style>\n",
       "<table border=\"1\" class=\"dataframe\">\n",
       "  <thead>\n",
       "    <tr style=\"text-align: right;\">\n",
       "      <th></th>\n",
       "      <th>avg_rating</th>\n",
       "      <th>members</th>\n",
       "      <th>user_rating</th>\n",
       "    </tr>\n",
       "  </thead>\n",
       "  <tbody>\n",
       "    <tr>\n",
       "      <th>count</th>\n",
       "      <td>7813604.00</td>\n",
       "      <td>7813604.00</td>\n",
       "      <td>7813604.00</td>\n",
       "    </tr>\n",
       "    <tr>\n",
       "      <th>mean</th>\n",
       "      <td>7.65</td>\n",
       "      <td>178622.98</td>\n",
       "      <td>6.33</td>\n",
       "    </tr>\n",
       "    <tr>\n",
       "      <th>std</th>\n",
       "      <td>0.67</td>\n",
       "      <td>188176.08</td>\n",
       "      <td>3.37</td>\n",
       "    </tr>\n",
       "    <tr>\n",
       "      <th>min</th>\n",
       "      <td>1.67</td>\n",
       "      <td>29.00</td>\n",
       "      <td>0.00</td>\n",
       "    </tr>\n",
       "    <tr>\n",
       "      <th>25%</th>\n",
       "      <td>7.27</td>\n",
       "      <td>44030.00</td>\n",
       "      <td>6.00</td>\n",
       "    </tr>\n",
       "    <tr>\n",
       "      <th>50%</th>\n",
       "      <td>7.68</td>\n",
       "      <td>110470.00</td>\n",
       "      <td>7.00</td>\n",
       "    </tr>\n",
       "    <tr>\n",
       "      <th>75%</th>\n",
       "      <td>8.13</td>\n",
       "      <td>244268.00</td>\n",
       "      <td>9.00</td>\n",
       "    </tr>\n",
       "    <tr>\n",
       "      <th>max</th>\n",
       "      <td>9.50</td>\n",
       "      <td>1013917.00</td>\n",
       "      <td>10.00</td>\n",
       "    </tr>\n",
       "  </tbody>\n",
       "</table>\n",
       "</div>"
      ],
      "text/plain": [
       "       avg_rating    members  user_rating\n",
       "count  7813604.00 7813604.00   7813604.00\n",
       "mean         7.65  178622.98         6.33\n",
       "std          0.67  188176.08         3.37\n",
       "min          1.67      29.00         0.00\n",
       "25%          7.27   44030.00         6.00\n",
       "50%          7.68  110470.00         7.00\n",
       "75%          8.13  244268.00         9.00\n",
       "max          9.50 1013917.00        10.00"
      ]
     },
     "execution_count": 36,
     "metadata": {},
     "output_type": "execute_result"
    }
   ],
   "source": [
    "anime_fulldata['user_rating'].replace({-1:0},inplace=True)\n",
    "anime_fulldata.describe()"
   ]
  },
  {
   "cell_type": "markdown",
   "id": "1e0acd7d",
   "metadata": {},
   "source": [
    "Now, lets plot scatter matrix plot for these datas"
   ]
  },
  {
   "cell_type": "code",
   "execution_count": 40,
   "id": "470e79a9",
   "metadata": {},
   "outputs": [
    {
     "data": {
      "image/png": "[encoded data removed]",
      "text/plain": [
       "<Figure size 720x936 with 9 Axes>"
      ]
     },
     "metadata": {
      "needs_background": "light"
     },
     "output_type": "display_data"
    }
   ],
   "source": [
    "pd.plotting.scatter_matrix(anime_fulldata,figsize=(10,13));"
   ]
  },
  {
   "cell_type": "markdown",
   "id": "a3006739",
   "metadata": {},
   "source": [
    "**7) Visualize some necessary datas**"
   ]
  },
  {
   "cell_type": "code",
   "execution_count": 70,
   "id": "190e8ff5",
   "metadata": {},
   "outputs": [
    {
     "data": {
      "image/png": "[encoded data removed]",
      "text/plain": [
       "<Figure size 432x288 with 1 Axes>"
      ]
     },
     "metadata": {
      "needs_background": "light"
     },
     "output_type": "display_data"
    }
   ],
   "source": [
    "anime_fulldata['title'].value_counts().sort_values(ascending=False).head(10).plot(kind='bar');\n",
    "plt.ylabel('Watched by user')\n",
    "plt.xlabel(\"Anime's title\")\n",
    "plt.title('Top 10 most watched Anime');"
   ]
  },
  {
   "cell_type": "code",
   "execution_count": 76,
   "id": "f7153c83",
   "metadata": {},
   "outputs": [
    {
     "data": {
      "image/png": "[encoded data removed]",
      "text/plain": [
       "<Figure size 720x576 with 1 Axes>"
      ]
     },
     "metadata": {},
     "output_type": "display_data"
    }
   ],
   "source": [
    "anime_fulldata['type'].value_counts().plot(kind='pie',figsize=(10,8),autopct='%.0f%%');"
   ]
  },
  {
   "cell_type": "code",
   "execution_count": 77,
   "id": "e417842f",
   "metadata": {},
   "outputs": [],
   "source": [
    "anime_fulldata['genre_count']= anime_fulldata['genre'].value_counts().count()"
   ]
  },
  {
   "cell_type": "code",
   "execution_count": 79,
   "id": "e6bfcd77",
   "metadata": {},
   "outputs": [
    {
     "data": {
      "text/html": [
       "<div>\n",
       "<style scoped>\n",
       "    .dataframe tbody tr th:only-of-type {\n",
       "        vertical-align: middle;\n",
       "    }\n",
       "\n",
       "    .dataframe tbody tr th {\n",
       "        vertical-align: top;\n",
       "    }\n",
       "\n",
       "    .dataframe thead th {\n",
       "        text-align: right;\n",
       "    }\n",
       "</style>\n",
       "<table border=\"1\" class=\"dataframe\">\n",
       "  <thead>\n",
       "    <tr style=\"text-align: right;\">\n",
       "      <th></th>\n",
       "      <th>anime_id</th>\n",
       "      <th>title</th>\n",
       "      <th>genre</th>\n",
       "      <th>type</th>\n",
       "      <th>episodes</th>\n",
       "      <th>avg_rating</th>\n",
       "      <th>members</th>\n",
       "      <th>user_id</th>\n",
       "      <th>user_rating</th>\n",
       "      <th>genre_count</th>\n",
       "    </tr>\n",
       "  </thead>\n",
       "  <tbody>\n",
       "    <tr>\n",
       "      <th>0</th>\n",
       "      <td>32281</td>\n",
       "      <td>Kimi no Na wa.</td>\n",
       "      <td>Drama, Romance, School, Supernatural</td>\n",
       "      <td>Movie</td>\n",
       "      <td>1</td>\n",
       "      <td>9.37</td>\n",
       "      <td>200630</td>\n",
       "      <td>99</td>\n",
       "      <td>5</td>\n",
       "      <td>3154</td>\n",
       "    </tr>\n",
       "    <tr>\n",
       "      <th>1</th>\n",
       "      <td>32281</td>\n",
       "      <td>Kimi no Na wa.</td>\n",
       "      <td>Drama, Romance, School, Supernatural</td>\n",
       "      <td>Movie</td>\n",
       "      <td>1</td>\n",
       "      <td>9.37</td>\n",
       "      <td>200630</td>\n",
       "      <td>152</td>\n",
       "      <td>10</td>\n",
       "      <td>3154</td>\n",
       "    </tr>\n",
       "    <tr>\n",
       "      <th>2</th>\n",
       "      <td>32281</td>\n",
       "      <td>Kimi no Na wa.</td>\n",
       "      <td>Drama, Romance, School, Supernatural</td>\n",
       "      <td>Movie</td>\n",
       "      <td>1</td>\n",
       "      <td>9.37</td>\n",
       "      <td>200630</td>\n",
       "      <td>244</td>\n",
       "      <td>10</td>\n",
       "      <td>3154</td>\n",
       "    </tr>\n",
       "    <tr>\n",
       "      <th>3</th>\n",
       "      <td>32281</td>\n",
       "      <td>Kimi no Na wa.</td>\n",
       "      <td>Drama, Romance, School, Supernatural</td>\n",
       "      <td>Movie</td>\n",
       "      <td>1</td>\n",
       "      <td>9.37</td>\n",
       "      <td>200630</td>\n",
       "      <td>271</td>\n",
       "      <td>10</td>\n",
       "      <td>3154</td>\n",
       "    </tr>\n",
       "    <tr>\n",
       "      <th>4</th>\n",
       "      <td>32281</td>\n",
       "      <td>Kimi no Na wa.</td>\n",
       "      <td>Drama, Romance, School, Supernatural</td>\n",
       "      <td>Movie</td>\n",
       "      <td>1</td>\n",
       "      <td>9.37</td>\n",
       "      <td>200630</td>\n",
       "      <td>278</td>\n",
       "      <td>0</td>\n",
       "      <td>3154</td>\n",
       "    </tr>\n",
       "  </tbody>\n",
       "</table>\n",
       "</div>"
      ],
      "text/plain": [
       "  anime_id           title                                 genre   type  \\\n",
       "0    32281  Kimi no Na wa.  Drama, Romance, School, Supernatural  Movie   \n",
       "1    32281  Kimi no Na wa.  Drama, Romance, School, Supernatural  Movie   \n",
       "2    32281  Kimi no Na wa.  Drama, Romance, School, Supernatural  Movie   \n",
       "3    32281  Kimi no Na wa.  Drama, Romance, School, Supernatural  Movie   \n",
       "4    32281  Kimi no Na wa.  Drama, Romance, School, Supernatural  Movie   \n",
       "\n",
       "  episodes  avg_rating  members user_id  user_rating  genre_count  \n",
       "0        1        9.37   200630      99            5         3154  \n",
       "1        1        9.37   200630     152           10         3154  \n",
       "2        1        9.37   200630     244           10         3154  \n",
       "3        1        9.37   200630     271           10         3154  \n",
       "4        1        9.37   200630     278            0         3154  "
      ]
     },
     "execution_count": 79,
     "metadata": {},
     "output_type": "execute_result"
    }
   ],
   "source": [
    "anime_fulldata.head()"
   ]
  },
  {
   "cell_type": "code",
   "execution_count": null,
   "id": "d9ee2aab",
   "metadata": {},
   "outputs": [],
   "source": []
  }
 ],
 "metadata": {
  "kernelspec": {
   "display_name": "Python 3",
   "language": "python",
   "name": "python3"
  },
  "language_info": {
   "codemirror_mode": {
    "name": "ipython",
    "version": 3
   },
   "file_extension": ".py",
   "mimetype": "text/x-python",
   "name": "python",
   "nbconvert_exporter": "python",
   "pygments_lexer": "ipython3",
   "version": "3.8.8"
  }
 },
 "nbformat": 4,
 "nbformat_minor": 5
}
