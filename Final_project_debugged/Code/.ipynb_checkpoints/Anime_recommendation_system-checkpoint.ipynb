{
 "cells": [
  {
   "cell_type": "markdown",
   "id": "6eea311f",
   "metadata": {},
   "source": [
    "# Final Project: Anime Recommendation System"
   ]
  },
  {
   "cell_type": "markdown",
   "id": "2305845d",
   "metadata": {},
   "source": [
    "**OVERVIEW**"
   ]
  },
  {
   "cell_type": "markdown",
   "id": "c6027bcb",
   "metadata": {},
   "source": [
    "**Recommendation systems** are widely used nowadays in this advanced century where quite a number of big companies applied them to improve their ratings and user satisfaction such as Youtube, Netfix, Amazon, Facebook etc. Netflix even offered a million dollars in 2009 to anyone who could improve its system by 10%.\n",
    "\n",
    "\n",
    "Recommendation system can be classified into 3 groups:-\n",
    "\n",
    "**1- SIMPLE RECOMMENDER SYSTEM**\n",
    "\n",
    "**2- CONTENT-BASED RECOMMENDER SYSTEM**\n",
    "\n",
    "**3- COLLABORATIVE FILTERING ENGINE**\n",
    "\n",
    "\n",
    "In this project, I will build an Anime Recommendation System by using **content-based recommender** based on [here](https://www.kaggle.com/CooperUnion/anime-recommendations-database) database (anime.csv)."
   ]
  },
  {
   "cell_type": "markdown",
   "id": "8a90e63a",
   "metadata": {},
   "source": [
    "**DATA DICTIONARY**:\n",
    "\n",
    "**anime_id** - Anime's unique identification code.\n",
    "\n",
    "**title** - The title of anime.\n",
    "\n",
    "**genre** - List of genre.\n",
    "\n",
    "**type** - Movie, TV, OVA, etc.\n",
    "\n",
    "**episodes** - Number of episodes of the anime (1 for movies).\n",
    "\n",
    "**avg_rating** - Average rating out of 10 for the anime.\n",
    "\n",
    "**members** - Number of people in the anime's community group.\n"
   ]
  },
  {
   "cell_type": "markdown",
   "id": "ca514bd7",
   "metadata": {},
   "source": [
    "**1) Importing necessary packages** and reading dataset"
   ]
  },
  {
   "cell_type": "code",
   "execution_count": 1,
   "id": "a8c834e5",
   "metadata": {},
   "outputs": [],
   "source": [
    "import pandas as pd\n",
    "import numpy as np\n",
    "import matplotlib.pyplot as plt\n",
    "\n",
    "%matplotlib inline\n",
    "\n",
    "import re \n",
    "#for renaming the titles\n",
    "\n",
    "from sklearn.feature_extraction.text import TfidfVectorizer\n",
    "#for converting text into token counts\n",
    "\n",
    "from sklearn.metrics.pairwise import cosine_similarity\n",
    "#for calculating the similarity score"
   ]
  },
  {
   "cell_type": "code",
   "execution_count": 2,
   "id": "7e56f56b",
   "metadata": {},
   "outputs": [
    {
     "data": {
      "text/html": [
       "<div>\n",
       "<style scoped>\n",
       "    .dataframe tbody tr th:only-of-type {\n",
       "        vertical-align: middle;\n",
       "    }\n",
       "\n",
       "    .dataframe tbody tr th {\n",
       "        vertical-align: top;\n",
       "    }\n",
       "\n",
       "    .dataframe thead th {\n",
       "        text-align: right;\n",
       "    }\n",
       "</style>\n",
       "<table border=\"1\" class=\"dataframe\">\n",
       "  <thead>\n",
       "    <tr style=\"text-align: right;\">\n",
       "      <th></th>\n",
       "      <th>anime_id</th>\n",
       "      <th>name</th>\n",
       "      <th>genre</th>\n",
       "      <th>type</th>\n",
       "      <th>episodes</th>\n",
       "      <th>rating</th>\n",
       "      <th>members</th>\n",
       "    </tr>\n",
       "  </thead>\n",
       "  <tbody>\n",
       "    <tr>\n",
       "      <th>0</th>\n",
       "      <td>32281</td>\n",
       "      <td>Kimi no Na wa.</td>\n",
       "      <td>Drama, Romance, School, Supernatural</td>\n",
       "      <td>Movie</td>\n",
       "      <td>1</td>\n",
       "      <td>9.37</td>\n",
       "      <td>200630</td>\n",
       "    </tr>\n",
       "    <tr>\n",
       "      <th>1</th>\n",
       "      <td>5114</td>\n",
       "      <td>Fullmetal Alchemist: Brotherhood</td>\n",
       "      <td>Action, Adventure, Drama, Fantasy, Magic, Mili...</td>\n",
       "      <td>TV</td>\n",
       "      <td>64</td>\n",
       "      <td>9.26</td>\n",
       "      <td>793665</td>\n",
       "    </tr>\n",
       "    <tr>\n",
       "      <th>2</th>\n",
       "      <td>28977</td>\n",
       "      <td>Gintama°</td>\n",
       "      <td>Action, Comedy, Historical, Parody, Samurai, S...</td>\n",
       "      <td>TV</td>\n",
       "      <td>51</td>\n",
       "      <td>9.25</td>\n",
       "      <td>114262</td>\n",
       "    </tr>\n",
       "    <tr>\n",
       "      <th>3</th>\n",
       "      <td>9253</td>\n",
       "      <td>Steins;Gate</td>\n",
       "      <td>Sci-Fi, Thriller</td>\n",
       "      <td>TV</td>\n",
       "      <td>24</td>\n",
       "      <td>9.17</td>\n",
       "      <td>673572</td>\n",
       "    </tr>\n",
       "    <tr>\n",
       "      <th>4</th>\n",
       "      <td>9969</td>\n",
       "      <td>Gintama&amp;#039;</td>\n",
       "      <td>Action, Comedy, Historical, Parody, Samurai, S...</td>\n",
       "      <td>TV</td>\n",
       "      <td>51</td>\n",
       "      <td>9.16</td>\n",
       "      <td>151266</td>\n",
       "    </tr>\n",
       "  </tbody>\n",
       "</table>\n",
       "</div>"
      ],
      "text/plain": [
       "   anime_id                              name  \\\n",
       "0     32281                    Kimi no Na wa.   \n",
       "1      5114  Fullmetal Alchemist: Brotherhood   \n",
       "2     28977                          Gintama°   \n",
       "3      9253                       Steins;Gate   \n",
       "4      9969                     Gintama&#039;   \n",
       "\n",
       "                                               genre   type episodes  rating  \\\n",
       "0               Drama, Romance, School, Supernatural  Movie        1    9.37   \n",
       "1  Action, Adventure, Drama, Fantasy, Magic, Mili...     TV       64    9.26   \n",
       "2  Action, Comedy, Historical, Parody, Samurai, S...     TV       51    9.25   \n",
       "3                                   Sci-Fi, Thriller     TV       24    9.17   \n",
       "4  Action, Comedy, Historical, Parody, Samurai, S...     TV       51    9.16   \n",
       "\n",
       "   members  \n",
       "0   200630  \n",
       "1   793665  \n",
       "2   114262  \n",
       "3   673572  \n",
       "4   151266  "
      ]
     },
     "execution_count": 2,
     "metadata": {},
     "output_type": "execute_result"
    }
   ],
   "source": [
    "anime_data = pd.read_csv('../Data/anime.csv')\n",
    "anime_data.head()"
   ]
  },
  {
   "cell_type": "code",
   "execution_count": 3,
   "id": "d5897f2a",
   "metadata": {},
   "outputs": [
    {
     "data": {
      "text/plain": [
       "(12294, 7)"
      ]
     },
     "execution_count": 3,
     "metadata": {},
     "output_type": "execute_result"
    }
   ],
   "source": [
    "anime_data.shape"
   ]
  },
  {
   "cell_type": "code",
   "execution_count": 4,
   "id": "f2254c85",
   "metadata": {},
   "outputs": [
    {
     "name": "stdout",
     "output_type": "stream",
     "text": [
      "<class 'pandas.core.frame.DataFrame'>\n",
      "RangeIndex: 12294 entries, 0 to 12293\n",
      "Data columns (total 7 columns):\n",
      " #   Column    Non-Null Count  Dtype  \n",
      "---  ------    --------------  -----  \n",
      " 0   anime_id  12294 non-null  int64  \n",
      " 1   name      12294 non-null  object \n",
      " 2   genre     12232 non-null  object \n",
      " 3   type      12269 non-null  object \n",
      " 4   episodes  12294 non-null  object \n",
      " 5   rating    12064 non-null  float64\n",
      " 6   members   12294 non-null  int64  \n",
      "dtypes: float64(1), int64(2), object(4)\n",
      "memory usage: 672.5+ KB\n"
     ]
    }
   ],
   "source": [
    "anime_data.info()"
   ]
  },
  {
   "cell_type": "markdown",
   "id": "bda0c69a",
   "metadata": {},
   "source": [
    "**2) Modifying dataset** such as cleaning null values, renaming and etc."
   ]
  },
  {
   "cell_type": "code",
   "execution_count": 5,
   "id": "738d6cf4",
   "metadata": {},
   "outputs": [
    {
     "data": {
      "text/plain": [
       "anime_id      0\n",
       "name          0\n",
       "genre        62\n",
       "type         25\n",
       "episodes      0\n",
       "rating      230\n",
       "members       0\n",
       "dtype: int64"
      ]
     },
     "execution_count": 5,
     "metadata": {},
     "output_type": "execute_result"
    }
   ],
   "source": [
    "#checking the number of null values\n",
    "anime_data.isnull().sum()"
   ]
  },
  {
   "cell_type": "code",
   "execution_count": 6,
   "id": "3c1d4119",
   "metadata": {},
   "outputs": [
    {
     "data": {
      "text/plain": [
       "anime_id    0\n",
       "name        0\n",
       "genre       0\n",
       "type        0\n",
       "episodes    0\n",
       "rating      0\n",
       "members     0\n",
       "dtype: int64"
      ]
     },
     "execution_count": 6,
     "metadata": {},
     "output_type": "execute_result"
    }
   ],
   "source": [
    "#removing null values\n",
    "anime_data.dropna(inplace=True)\n",
    "#checking null values after removing\n",
    "anime_data.isnull().sum()"
   ]
  },
  {
   "cell_type": "code",
   "execution_count": 7,
   "id": "37c94c62",
   "metadata": {},
   "outputs": [
    {
     "data": {
      "text/plain": [
       "(12017, 7)"
      ]
     },
     "execution_count": 7,
     "metadata": {},
     "output_type": "execute_result"
    }
   ],
   "source": [
    "anime_data.shape"
   ]
  },
  {
   "cell_type": "markdown",
   "id": "41f08252",
   "metadata": {},
   "source": [
    "The rows has decreased."
   ]
  },
  {
   "cell_type": "code",
   "execution_count": 8,
   "id": "7a3ef5ac",
   "metadata": {},
   "outputs": [
    {
     "data": {
      "text/html": [
       "<div>\n",
       "<style scoped>\n",
       "    .dataframe tbody tr th:only-of-type {\n",
       "        vertical-align: middle;\n",
       "    }\n",
       "\n",
       "    .dataframe tbody tr th {\n",
       "        vertical-align: top;\n",
       "    }\n",
       "\n",
       "    .dataframe thead th {\n",
       "        text-align: right;\n",
       "    }\n",
       "</style>\n",
       "<table border=\"1\" class=\"dataframe\">\n",
       "  <thead>\n",
       "    <tr style=\"text-align: right;\">\n",
       "      <th></th>\n",
       "      <th>anime_id</th>\n",
       "      <th>name</th>\n",
       "      <th>genre</th>\n",
       "      <th>type</th>\n",
       "      <th>episodes</th>\n",
       "      <th>rating</th>\n",
       "      <th>members</th>\n",
       "    </tr>\n",
       "  </thead>\n",
       "  <tbody>\n",
       "    <tr>\n",
       "      <th>12289</th>\n",
       "      <td>9316</td>\n",
       "      <td>Toushindai My Lover: Minami tai Mecha-Minami</td>\n",
       "      <td>Hentai</td>\n",
       "      <td>OVA</td>\n",
       "      <td>1</td>\n",
       "      <td>4.15</td>\n",
       "      <td>211</td>\n",
       "    </tr>\n",
       "    <tr>\n",
       "      <th>12290</th>\n",
       "      <td>5543</td>\n",
       "      <td>Under World</td>\n",
       "      <td>Hentai</td>\n",
       "      <td>OVA</td>\n",
       "      <td>1</td>\n",
       "      <td>4.28</td>\n",
       "      <td>183</td>\n",
       "    </tr>\n",
       "    <tr>\n",
       "      <th>12291</th>\n",
       "      <td>5621</td>\n",
       "      <td>Violence Gekiga David no Hoshi</td>\n",
       "      <td>Hentai</td>\n",
       "      <td>OVA</td>\n",
       "      <td>4</td>\n",
       "      <td>4.88</td>\n",
       "      <td>219</td>\n",
       "    </tr>\n",
       "    <tr>\n",
       "      <th>12292</th>\n",
       "      <td>6133</td>\n",
       "      <td>Violence Gekiga Shin David no Hoshi: Inma Dens...</td>\n",
       "      <td>Hentai</td>\n",
       "      <td>OVA</td>\n",
       "      <td>1</td>\n",
       "      <td>4.98</td>\n",
       "      <td>175</td>\n",
       "    </tr>\n",
       "    <tr>\n",
       "      <th>12293</th>\n",
       "      <td>26081</td>\n",
       "      <td>Yasuji no Pornorama: Yacchimae!!</td>\n",
       "      <td>Hentai</td>\n",
       "      <td>Movie</td>\n",
       "      <td>1</td>\n",
       "      <td>5.46</td>\n",
       "      <td>142</td>\n",
       "    </tr>\n",
       "  </tbody>\n",
       "</table>\n",
       "</div>"
      ],
      "text/plain": [
       "       anime_id                                               name   genre  \\\n",
       "12289      9316       Toushindai My Lover: Minami tai Mecha-Minami  Hentai   \n",
       "12290      5543                                        Under World  Hentai   \n",
       "12291      5621                     Violence Gekiga David no Hoshi  Hentai   \n",
       "12292      6133  Violence Gekiga Shin David no Hoshi: Inma Dens...  Hentai   \n",
       "12293     26081                   Yasuji no Pornorama: Yacchimae!!  Hentai   \n",
       "\n",
       "        type episodes  rating  members  \n",
       "12289    OVA        1    4.15      211  \n",
       "12290    OVA        1    4.28      183  \n",
       "12291    OVA        4    4.88      219  \n",
       "12292    OVA        1    4.98      175  \n",
       "12293  Movie        1    5.46      142  "
      ]
     },
     "execution_count": 8,
     "metadata": {},
     "output_type": "execute_result"
    }
   ],
   "source": [
    "anime_data.tail()"
   ]
  },
  {
   "cell_type": "markdown",
   "id": "6d6616f0",
   "metadata": {},
   "source": [
    "The index is not right because the dataset only have 12017 rows now. "
   ]
  },
  {
   "cell_type": "code",
   "execution_count": 9,
   "id": "0c6e706b",
   "metadata": {},
   "outputs": [
    {
     "data": {
      "text/html": [
       "<div>\n",
       "<style scoped>\n",
       "    .dataframe tbody tr th:only-of-type {\n",
       "        vertical-align: middle;\n",
       "    }\n",
       "\n",
       "    .dataframe tbody tr th {\n",
       "        vertical-align: top;\n",
       "    }\n",
       "\n",
       "    .dataframe thead th {\n",
       "        text-align: right;\n",
       "    }\n",
       "</style>\n",
       "<table border=\"1\" class=\"dataframe\">\n",
       "  <thead>\n",
       "    <tr style=\"text-align: right;\">\n",
       "      <th></th>\n",
       "      <th>anime_id</th>\n",
       "      <th>name</th>\n",
       "      <th>genre</th>\n",
       "      <th>type</th>\n",
       "      <th>episodes</th>\n",
       "      <th>rating</th>\n",
       "      <th>members</th>\n",
       "    </tr>\n",
       "  </thead>\n",
       "  <tbody>\n",
       "    <tr>\n",
       "      <th>12012</th>\n",
       "      <td>9316</td>\n",
       "      <td>Toushindai My Lover: Minami tai Mecha-Minami</td>\n",
       "      <td>Hentai</td>\n",
       "      <td>OVA</td>\n",
       "      <td>1</td>\n",
       "      <td>4.15</td>\n",
       "      <td>211</td>\n",
       "    </tr>\n",
       "    <tr>\n",
       "      <th>12013</th>\n",
       "      <td>5543</td>\n",
       "      <td>Under World</td>\n",
       "      <td>Hentai</td>\n",
       "      <td>OVA</td>\n",
       "      <td>1</td>\n",
       "      <td>4.28</td>\n",
       "      <td>183</td>\n",
       "    </tr>\n",
       "    <tr>\n",
       "      <th>12014</th>\n",
       "      <td>5621</td>\n",
       "      <td>Violence Gekiga David no Hoshi</td>\n",
       "      <td>Hentai</td>\n",
       "      <td>OVA</td>\n",
       "      <td>4</td>\n",
       "      <td>4.88</td>\n",
       "      <td>219</td>\n",
       "    </tr>\n",
       "    <tr>\n",
       "      <th>12015</th>\n",
       "      <td>6133</td>\n",
       "      <td>Violence Gekiga Shin David no Hoshi: Inma Dens...</td>\n",
       "      <td>Hentai</td>\n",
       "      <td>OVA</td>\n",
       "      <td>1</td>\n",
       "      <td>4.98</td>\n",
       "      <td>175</td>\n",
       "    </tr>\n",
       "    <tr>\n",
       "      <th>12016</th>\n",
       "      <td>26081</td>\n",
       "      <td>Yasuji no Pornorama: Yacchimae!!</td>\n",
       "      <td>Hentai</td>\n",
       "      <td>Movie</td>\n",
       "      <td>1</td>\n",
       "      <td>5.46</td>\n",
       "      <td>142</td>\n",
       "    </tr>\n",
       "  </tbody>\n",
       "</table>\n",
       "</div>"
      ],
      "text/plain": [
       "       anime_id                                               name   genre  \\\n",
       "12012      9316       Toushindai My Lover: Minami tai Mecha-Minami  Hentai   \n",
       "12013      5543                                        Under World  Hentai   \n",
       "12014      5621                     Violence Gekiga David no Hoshi  Hentai   \n",
       "12015      6133  Violence Gekiga Shin David no Hoshi: Inma Dens...  Hentai   \n",
       "12016     26081                   Yasuji no Pornorama: Yacchimae!!  Hentai   \n",
       "\n",
       "        type episodes  rating  members  \n",
       "12012    OVA        1    4.15      211  \n",
       "12013    OVA        1    4.28      183  \n",
       "12014    OVA        4    4.88      219  \n",
       "12015    OVA        1    4.98      175  \n",
       "12016  Movie        1    5.46      142  "
      ]
     },
     "execution_count": 9,
     "metadata": {},
     "output_type": "execute_result"
    }
   ],
   "source": [
    "#reseting index of datasets\n",
    "anime_data.reset_index(drop = True, inplace= True)\n",
    "anime_data.tail()"
   ]
  },
  {
   "cell_type": "markdown",
   "id": "30dbd325",
   "metadata": {},
   "source": [
    "Indexing is fine now. Let's rename rating as avg_rating and name as title"
   ]
  },
  {
   "cell_type": "code",
   "execution_count": 10,
   "id": "7d60c169",
   "metadata": {},
   "outputs": [
    {
     "data": {
      "text/html": [
       "<div>\n",
       "<style scoped>\n",
       "    .dataframe tbody tr th:only-of-type {\n",
       "        vertical-align: middle;\n",
       "    }\n",
       "\n",
       "    .dataframe tbody tr th {\n",
       "        vertical-align: top;\n",
       "    }\n",
       "\n",
       "    .dataframe thead th {\n",
       "        text-align: right;\n",
       "    }\n",
       "</style>\n",
       "<table border=\"1\" class=\"dataframe\">\n",
       "  <thead>\n",
       "    <tr style=\"text-align: right;\">\n",
       "      <th></th>\n",
       "      <th>anime_id</th>\n",
       "      <th>title</th>\n",
       "      <th>genre</th>\n",
       "      <th>type</th>\n",
       "      <th>episodes</th>\n",
       "      <th>avg_rating</th>\n",
       "      <th>members</th>\n",
       "    </tr>\n",
       "  </thead>\n",
       "  <tbody>\n",
       "    <tr>\n",
       "      <th>0</th>\n",
       "      <td>32281</td>\n",
       "      <td>Kimi no Na wa.</td>\n",
       "      <td>Drama, Romance, School, Supernatural</td>\n",
       "      <td>Movie</td>\n",
       "      <td>1</td>\n",
       "      <td>9.37</td>\n",
       "      <td>200630</td>\n",
       "    </tr>\n",
       "    <tr>\n",
       "      <th>1</th>\n",
       "      <td>5114</td>\n",
       "      <td>Fullmetal Alchemist: Brotherhood</td>\n",
       "      <td>Action, Adventure, Drama, Fantasy, Magic, Mili...</td>\n",
       "      <td>TV</td>\n",
       "      <td>64</td>\n",
       "      <td>9.26</td>\n",
       "      <td>793665</td>\n",
       "    </tr>\n",
       "    <tr>\n",
       "      <th>2</th>\n",
       "      <td>28977</td>\n",
       "      <td>Gintama°</td>\n",
       "      <td>Action, Comedy, Historical, Parody, Samurai, S...</td>\n",
       "      <td>TV</td>\n",
       "      <td>51</td>\n",
       "      <td>9.25</td>\n",
       "      <td>114262</td>\n",
       "    </tr>\n",
       "    <tr>\n",
       "      <th>3</th>\n",
       "      <td>9253</td>\n",
       "      <td>Steins;Gate</td>\n",
       "      <td>Sci-Fi, Thriller</td>\n",
       "      <td>TV</td>\n",
       "      <td>24</td>\n",
       "      <td>9.17</td>\n",
       "      <td>673572</td>\n",
       "    </tr>\n",
       "    <tr>\n",
       "      <th>4</th>\n",
       "      <td>9969</td>\n",
       "      <td>Gintama&amp;#039;</td>\n",
       "      <td>Action, Comedy, Historical, Parody, Samurai, S...</td>\n",
       "      <td>TV</td>\n",
       "      <td>51</td>\n",
       "      <td>9.16</td>\n",
       "      <td>151266</td>\n",
       "    </tr>\n",
       "  </tbody>\n",
       "</table>\n",
       "</div>"
      ],
      "text/plain": [
       "   anime_id                             title  \\\n",
       "0     32281                    Kimi no Na wa.   \n",
       "1      5114  Fullmetal Alchemist: Brotherhood   \n",
       "2     28977                          Gintama°   \n",
       "3      9253                       Steins;Gate   \n",
       "4      9969                     Gintama&#039;   \n",
       "\n",
       "                                               genre   type episodes  \\\n",
       "0               Drama, Romance, School, Supernatural  Movie        1   \n",
       "1  Action, Adventure, Drama, Fantasy, Magic, Mili...     TV       64   \n",
       "2  Action, Comedy, Historical, Parody, Samurai, S...     TV       51   \n",
       "3                                   Sci-Fi, Thriller     TV       24   \n",
       "4  Action, Comedy, Historical, Parody, Samurai, S...     TV       51   \n",
       "\n",
       "   avg_rating  members  \n",
       "0        9.37   200630  \n",
       "1        9.26   793665  \n",
       "2        9.25   114262  \n",
       "3        9.17   673572  \n",
       "4        9.16   151266  "
      ]
     },
     "execution_count": 10,
     "metadata": {},
     "output_type": "execute_result"
    }
   ],
   "source": [
    "#renaming columns\n",
    "anime_data.rename(columns={'rating':'avg_rating','name':'title'},inplace = True)\n",
    "anime_data.head()"
   ]
  },
  {
   "cell_type": "markdown",
   "id": "1a13936c",
   "metadata": {},
   "source": [
    "If we look at title column, the datas contain a lot of special symbols. Remove all the special symbols for better result."
   ]
  },
  {
   "cell_type": "code",
   "execution_count": 11,
   "id": "cb4c71a9",
   "metadata": {},
   "outputs": [],
   "source": [
    "#for an easy input later\n",
    "anime_data['title'] = anime_data['title'].str.lower()"
   ]
  },
  {
   "cell_type": "code",
   "execution_count": 12,
   "id": "bb545a28",
   "metadata": {},
   "outputs": [],
   "source": [
    "#define function for removing/renanimg the title column\n",
    "def sym_cleaning(symbol):\n",
    "    symbol = re.sub(r'&quot;', '', symbol)\n",
    "    symbol = re.sub(r'.hack//', '', symbol)\n",
    "    symbol = re.sub(r'&#039;', '', symbol)\n",
    "    symbol = re.sub(r'A&#039;s', '', symbol)\n",
    "    symbol = re.sub(r'I&#039;', 'I\\'', symbol)\n",
    "    symbol = re.sub(r'&amp;', 'and', symbol)\n",
    "    symbol = re.sub(r'[.;!!:-]','', symbol)\n",
    "    symbol = re.sub(r'°','', symbol)\n",
    "    \n",
    "    \n",
    "    return symbol\n",
    "\n",
    "anime_data['title'] = anime_data['title'].apply(sym_cleaning)"
   ]
  },
  {
   "cell_type": "code",
   "execution_count": 13,
   "id": "bceefe0a",
   "metadata": {
    "scrolled": true
   },
   "outputs": [
    {
     "data": {
      "text/plain": [
       "0                                        kimi no na wa\n",
       "1                      fullmetal alchemist brotherhood\n",
       "2                                              gintama\n",
       "3                                           steinsgate\n",
       "4                                              gintama\n",
       "5    haikyuu karasuno koukou vs shiratorizawa gakue...\n",
       "6                               hunter x hunter (2011)\n",
       "7                                 ginga eiyuu densetsu\n",
       "8     gintama movie kanketsuhen  yorozuya yo eien nare\n",
       "9                                    gintama enchousen\n",
       "Name: title, dtype: object"
      ]
     },
     "execution_count": 13,
     "metadata": {},
     "output_type": "execute_result"
    }
   ],
   "source": [
    "#checking title column\n",
    "anime_data['title'].head(10)"
   ]
  },
  {
   "cell_type": "code",
   "execution_count": 14,
   "id": "34874ef5",
   "metadata": {},
   "outputs": [
    {
     "data": {
      "text/plain": [
       "canaan                                                            1\n",
       "doraemon its spring                                               1\n",
       "rurouni kenshin special techniques                                1\n",
       "ganbare kickers specials                                          1\n",
       "digimon frontier                                                  1\n",
       "                                                                 ..\n",
       "onizushi                                                          1\n",
       "hello kitty no yappari mama ga suki                               1\n",
       "ashita no kibou kanashimi yo arigatou  takae tsuneo monogatari    1\n",
       "the tv show                                                       1\n",
       "hundred                                                           1\n",
       "Name: title, Length: 11993, dtype: int64"
      ]
     },
     "execution_count": 14,
     "metadata": {},
     "output_type": "execute_result"
    }
   ],
   "source": [
    "anime_data.drop_duplicates(subset=['title'],inplace=True)\n",
    "anime_data['title'].value_counts()"
   ]
  },
  {
   "cell_type": "code",
   "execution_count": 15,
   "id": "50413aa2",
   "metadata": {},
   "outputs": [
    {
     "data": {
      "text/plain": [
       "0                                        kimi no na wa\n",
       "1                      fullmetal alchemist brotherhood\n",
       "2                                              gintama\n",
       "3                                           steinsgate\n",
       "5    haikyuu karasuno koukou vs shiratorizawa gakue...\n",
       "Name: title, dtype: object"
      ]
     },
     "execution_count": 15,
     "metadata": {},
     "output_type": "execute_result"
    }
   ],
   "source": [
    "anime_data['title'].head()"
   ]
  },
  {
   "cell_type": "code",
   "execution_count": 16,
   "id": "603bb59c",
   "metadata": {},
   "outputs": [
    {
     "data": {
      "text/html": [
       "<div>\n",
       "<style scoped>\n",
       "    .dataframe tbody tr th:only-of-type {\n",
       "        vertical-align: middle;\n",
       "    }\n",
       "\n",
       "    .dataframe tbody tr th {\n",
       "        vertical-align: top;\n",
       "    }\n",
       "\n",
       "    .dataframe thead th {\n",
       "        text-align: right;\n",
       "    }\n",
       "</style>\n",
       "<table border=\"1\" class=\"dataframe\">\n",
       "  <thead>\n",
       "    <tr style=\"text-align: right;\">\n",
       "      <th></th>\n",
       "      <th>anime_id</th>\n",
       "      <th>title</th>\n",
       "      <th>genre</th>\n",
       "      <th>type</th>\n",
       "      <th>episodes</th>\n",
       "      <th>avg_rating</th>\n",
       "      <th>members</th>\n",
       "    </tr>\n",
       "  </thead>\n",
       "  <tbody>\n",
       "    <tr>\n",
       "      <th>11988</th>\n",
       "      <td>9316</td>\n",
       "      <td>toushindai my lover minami tai mechaminami</td>\n",
       "      <td>Hentai</td>\n",
       "      <td>OVA</td>\n",
       "      <td>1</td>\n",
       "      <td>4.15</td>\n",
       "      <td>211</td>\n",
       "    </tr>\n",
       "    <tr>\n",
       "      <th>11989</th>\n",
       "      <td>5543</td>\n",
       "      <td>under world</td>\n",
       "      <td>Hentai</td>\n",
       "      <td>OVA</td>\n",
       "      <td>1</td>\n",
       "      <td>4.28</td>\n",
       "      <td>183</td>\n",
       "    </tr>\n",
       "    <tr>\n",
       "      <th>11990</th>\n",
       "      <td>5621</td>\n",
       "      <td>violence gekiga david no hoshi</td>\n",
       "      <td>Hentai</td>\n",
       "      <td>OVA</td>\n",
       "      <td>4</td>\n",
       "      <td>4.88</td>\n",
       "      <td>219</td>\n",
       "    </tr>\n",
       "    <tr>\n",
       "      <th>11991</th>\n",
       "      <td>6133</td>\n",
       "      <td>violence gekiga shin david no hoshi inma densetsu</td>\n",
       "      <td>Hentai</td>\n",
       "      <td>OVA</td>\n",
       "      <td>1</td>\n",
       "      <td>4.98</td>\n",
       "      <td>175</td>\n",
       "    </tr>\n",
       "    <tr>\n",
       "      <th>11992</th>\n",
       "      <td>26081</td>\n",
       "      <td>yasuji no pornorama yacchimae</td>\n",
       "      <td>Hentai</td>\n",
       "      <td>Movie</td>\n",
       "      <td>1</td>\n",
       "      <td>5.46</td>\n",
       "      <td>142</td>\n",
       "    </tr>\n",
       "  </tbody>\n",
       "</table>\n",
       "</div>"
      ],
      "text/plain": [
       "       anime_id                                              title   genre  \\\n",
       "11988      9316         toushindai my lover minami tai mechaminami  Hentai   \n",
       "11989      5543                                        under world  Hentai   \n",
       "11990      5621                     violence gekiga david no hoshi  Hentai   \n",
       "11991      6133  violence gekiga shin david no hoshi inma densetsu  Hentai   \n",
       "11992     26081                      yasuji no pornorama yacchimae  Hentai   \n",
       "\n",
       "        type episodes  avg_rating  members  \n",
       "11988    OVA        1        4.15      211  \n",
       "11989    OVA        1        4.28      183  \n",
       "11990    OVA        4        4.88      219  \n",
       "11991    OVA        1        4.98      175  \n",
       "11992  Movie        1        5.46      142  "
      ]
     },
     "execution_count": 16,
     "metadata": {},
     "output_type": "execute_result"
    }
   ],
   "source": [
    "anime_data.reset_index(drop = True, inplace= True)\n",
    "anime_data.tail()"
   ]
  },
  {
   "cell_type": "markdown",
   "id": "31941985",
   "metadata": {},
   "source": [
    "**There we go!**"
   ]
  },
  {
   "cell_type": "markdown",
   "id": "445c959a",
   "metadata": {},
   "source": [
    "**3) Dataset statistics**"
   ]
  },
  {
   "cell_type": "code",
   "execution_count": 17,
   "id": "f72f922f",
   "metadata": {},
   "outputs": [
    {
     "data": {
      "text/html": [
       "<div>\n",
       "<style scoped>\n",
       "    .dataframe tbody tr th:only-of-type {\n",
       "        vertical-align: middle;\n",
       "    }\n",
       "\n",
       "    .dataframe tbody tr th {\n",
       "        vertical-align: top;\n",
       "    }\n",
       "\n",
       "    .dataframe thead th {\n",
       "        text-align: right;\n",
       "    }\n",
       "</style>\n",
       "<table border=\"1\" class=\"dataframe\">\n",
       "  <thead>\n",
       "    <tr style=\"text-align: right;\">\n",
       "      <th></th>\n",
       "      <th>anime_id</th>\n",
       "      <th>avg_rating</th>\n",
       "      <th>members</th>\n",
       "    </tr>\n",
       "  </thead>\n",
       "  <tbody>\n",
       "    <tr>\n",
       "      <th>count</th>\n",
       "      <td>11993.000000</td>\n",
       "      <td>11993.000000</td>\n",
       "      <td>1.199300e+04</td>\n",
       "    </tr>\n",
       "    <tr>\n",
       "      <th>mean</th>\n",
       "      <td>13637.977904</td>\n",
       "      <td>6.477031</td>\n",
       "      <td>1.821889e+04</td>\n",
       "    </tr>\n",
       "    <tr>\n",
       "      <th>std</th>\n",
       "      <td>11233.946374</td>\n",
       "      <td>1.023506</td>\n",
       "      <td>5.514493e+04</td>\n",
       "    </tr>\n",
       "    <tr>\n",
       "      <th>min</th>\n",
       "      <td>1.000000</td>\n",
       "      <td>1.670000</td>\n",
       "      <td>1.200000e+01</td>\n",
       "    </tr>\n",
       "    <tr>\n",
       "      <th>25%</th>\n",
       "      <td>3389.000000</td>\n",
       "      <td>5.890000</td>\n",
       "      <td>2.240000e+02</td>\n",
       "    </tr>\n",
       "    <tr>\n",
       "      <th>50%</th>\n",
       "      <td>9956.000000</td>\n",
       "      <td>6.570000</td>\n",
       "      <td>1.547000e+03</td>\n",
       "    </tr>\n",
       "    <tr>\n",
       "      <th>75%</th>\n",
       "      <td>23733.000000</td>\n",
       "      <td>7.180000</td>\n",
       "      <td>9.487000e+03</td>\n",
       "    </tr>\n",
       "    <tr>\n",
       "      <th>max</th>\n",
       "      <td>34519.000000</td>\n",
       "      <td>10.000000</td>\n",
       "      <td>1.013917e+06</td>\n",
       "    </tr>\n",
       "  </tbody>\n",
       "</table>\n",
       "</div>"
      ],
      "text/plain": [
       "           anime_id    avg_rating       members\n",
       "count  11993.000000  11993.000000  1.199300e+04\n",
       "mean   13637.977904      6.477031  1.821889e+04\n",
       "std    11233.946374      1.023506  5.514493e+04\n",
       "min        1.000000      1.670000  1.200000e+01\n",
       "25%     3389.000000      5.890000  2.240000e+02\n",
       "50%     9956.000000      6.570000  1.547000e+03\n",
       "75%    23733.000000      7.180000  9.487000e+03\n",
       "max    34519.000000     10.000000  1.013917e+06"
      ]
     },
     "execution_count": 17,
     "metadata": {},
     "output_type": "execute_result"
    }
   ],
   "source": [
    "anime_data.describe()"
   ]
  },
  {
   "cell_type": "markdown",
   "id": "b5556b50",
   "metadata": {},
   "source": [
    "Change anime_id column into type oblect because we don't want it in the statistics. anime_id is just an identification code for the anime."
   ]
  },
  {
   "cell_type": "code",
   "execution_count": 18,
   "id": "cb47b20f",
   "metadata": {},
   "outputs": [
    {
     "data": {
      "text/html": [
       "<div>\n",
       "<style scoped>\n",
       "    .dataframe tbody tr th:only-of-type {\n",
       "        vertical-align: middle;\n",
       "    }\n",
       "\n",
       "    .dataframe tbody tr th {\n",
       "        vertical-align: top;\n",
       "    }\n",
       "\n",
       "    .dataframe thead th {\n",
       "        text-align: right;\n",
       "    }\n",
       "</style>\n",
       "<table border=\"1\" class=\"dataframe\">\n",
       "  <thead>\n",
       "    <tr style=\"text-align: right;\">\n",
       "      <th></th>\n",
       "      <th>avg_rating</th>\n",
       "      <th>members</th>\n",
       "    </tr>\n",
       "  </thead>\n",
       "  <tbody>\n",
       "    <tr>\n",
       "      <th>count</th>\n",
       "      <td>11993.000000</td>\n",
       "      <td>1.199300e+04</td>\n",
       "    </tr>\n",
       "    <tr>\n",
       "      <th>mean</th>\n",
       "      <td>6.477031</td>\n",
       "      <td>1.821889e+04</td>\n",
       "    </tr>\n",
       "    <tr>\n",
       "      <th>std</th>\n",
       "      <td>1.023506</td>\n",
       "      <td>5.514493e+04</td>\n",
       "    </tr>\n",
       "    <tr>\n",
       "      <th>min</th>\n",
       "      <td>1.670000</td>\n",
       "      <td>1.200000e+01</td>\n",
       "    </tr>\n",
       "    <tr>\n",
       "      <th>25%</th>\n",
       "      <td>5.890000</td>\n",
       "      <td>2.240000e+02</td>\n",
       "    </tr>\n",
       "    <tr>\n",
       "      <th>50%</th>\n",
       "      <td>6.570000</td>\n",
       "      <td>1.547000e+03</td>\n",
       "    </tr>\n",
       "    <tr>\n",
       "      <th>75%</th>\n",
       "      <td>7.180000</td>\n",
       "      <td>9.487000e+03</td>\n",
       "    </tr>\n",
       "    <tr>\n",
       "      <th>max</th>\n",
       "      <td>10.000000</td>\n",
       "      <td>1.013917e+06</td>\n",
       "    </tr>\n",
       "  </tbody>\n",
       "</table>\n",
       "</div>"
      ],
      "text/plain": [
       "         avg_rating       members\n",
       "count  11993.000000  1.199300e+04\n",
       "mean       6.477031  1.821889e+04\n",
       "std        1.023506  5.514493e+04\n",
       "min        1.670000  1.200000e+01\n",
       "25%        5.890000  2.240000e+02\n",
       "50%        6.570000  1.547000e+03\n",
       "75%        7.180000  9.487000e+03\n",
       "max       10.000000  1.013917e+06"
      ]
     },
     "execution_count": 18,
     "metadata": {},
     "output_type": "execute_result"
    }
   ],
   "source": [
    "anime_data['anime_id'] = anime_data['anime_id'].astype(object)\n",
    "#checking dataset statistic after changing dtypes\n",
    "anime_data.describe()"
   ]
  },
  {
   "cell_type": "markdown",
   "id": "0161909d",
   "metadata": {},
   "source": [
    "Let's proceed with scatter plot to see the relation between avg_rating and members"
   ]
  },
  {
   "cell_type": "code",
   "execution_count": 19,
   "id": "2d833d16",
   "metadata": {},
   "outputs": [
    {
     "data": {
      "image/png": "[encoded data removed]",
      "text/plain": [
       "<Figure size 720x864 with 1 Axes>"
      ]
     },
     "metadata": {
      "needs_background": "light"
     },
     "output_type": "display_data"
    }
   ],
   "source": [
    "anime_data[['avg_rating','members']].plot(kind='scatter',figsize=(10,12),color='coral',x='avg_rating',y='members');"
   ]
  },
  {
   "cell_type": "markdown",
   "id": "67cbef02",
   "metadata": {},
   "source": [
    "**4) Visualization**"
   ]
  },
  {
   "cell_type": "code",
   "execution_count": 20,
   "id": "6ca9c831",
   "metadata": {
    "scrolled": true
   },
   "outputs": [
    {
     "data": {
      "image/png": "[encoded data removed]",
      "text/plain": [
       "<Figure size 432x288 with 1 Axes>"
      ]
     },
     "metadata": {
      "needs_background": "light"
     },
     "output_type": "display_data"
    }
   ],
   "source": [
    "anime_data['genre'].value_counts().sort_values(ascending=False).head(10).plot(kind='bar',color=['purple','cyan','black',\n",
    "                                                                                                'pink','red','blue','green',\n",
    "                                                                                                'yellow','brown','orange'])\n",
    "plt.ylabel('Number of Anime')\n",
    "plt.xlabel(\"Anime's genre\")\n",
    "plt.title('Top 10 most prefered genre');"
   ]
  },
  {
   "cell_type": "markdown",
   "id": "0d849f8c",
   "metadata": {},
   "source": [
    "Now we got 'Hentai'(abnormal) genre as the most loved anime's genre followed by Comedy in the second place and Music in the third."
   ]
  },
  {
   "cell_type": "code",
   "execution_count": 21,
   "id": "208435cd",
   "metadata": {},
   "outputs": [
    {
     "data": {
      "image/png": "[encoded data removed]",
      "text/plain": [
       "<Figure size 720x576 with 1 Axes>"
      ]
     },
     "metadata": {},
     "output_type": "display_data"
    }
   ],
   "source": [
    "anime_data['type'].value_counts().plot(kind='pie',figsize=(10,8),autopct='%.0f%%',\n",
    "                                       colors = ['#ff9999','#66b3ff','#99ff99',\n",
    "                                                 '#ffcc99','#CE8AF8','#FDFF85'],\n",
    "                                      shadow=True,explode = [0.1,0,0,0,0,0]);"
   ]
  },
  {
   "cell_type": "markdown",
   "id": "df926764",
   "metadata": {},
   "source": [
    "Most people watched TV-type of anime."
   ]
  },
  {
   "cell_type": "markdown",
   "id": "2d10afa1",
   "metadata": {},
   "source": [
    "**5) Cosine Similarity**"
   ]
  },
  {
   "cell_type": "code",
   "execution_count": 22,
   "id": "e8ebd992",
   "metadata": {
    "scrolled": true
   },
   "outputs": [
    {
     "data": {
      "text/plain": [
       "(11993, 47)"
      ]
     },
     "execution_count": 22,
     "metadata": {},
     "output_type": "execute_result"
    }
   ],
   "source": [
    "#define Tf-Idf vectorizer\n",
    "tfidf = TfidfVectorizer()\n",
    "\n",
    "#spliting the list by a comma (,)\n",
    "anime_data['genre'] = anime_data['genre'].str.split(',').astype(str)\n",
    "\n",
    "#construct tfidf matrix by fitting and transforming genre\n",
    "tfidf_matrix = tfidf.fit_transform(anime_data['genre'])\n",
    "\n",
    "#check the shape of matrix\n",
    "tfidf_matrix.shape"
   ]
  },
  {
   "cell_type": "code",
   "execution_count": 23,
   "id": "1212a617",
   "metadata": {},
   "outputs": [
    {
     "data": {
      "text/plain": [
       "{'drama': 8,\n",
       " 'romance': 31,\n",
       " 'school': 33,\n",
       " 'supernatural': 42,\n",
       " 'action': 0,\n",
       " 'adventure': 1,\n",
       " 'fantasy': 10,\n",
       " 'magic': 20,\n",
       " 'military': 23,\n",
       " 'shounen': 37,\n",
       " 'comedy': 5,\n",
       " 'historical': 15,\n",
       " 'parody': 27,\n",
       " 'samurai': 32,\n",
       " 'sci': 34,\n",
       " 'fi': 11,\n",
       " 'thriller': 43,\n",
       " 'sports': 40,\n",
       " 'super': 41,\n",
       " 'power': 29,\n",
       " 'space': 39,\n",
       " 'slice': 38,\n",
       " 'of': 26,\n",
       " 'life': 19,\n",
       " 'mecha': 22,\n",
       " 'music': 24,\n",
       " 'mystery': 25,\n",
       " 'seinen': 35,\n",
       " 'martial': 21,\n",
       " 'arts': 3,\n",
       " 'vampire': 44,\n",
       " 'shoujo': 36,\n",
       " 'horror': 16,\n",
       " 'police': 28,\n",
       " 'psychological': 30,\n",
       " 'demons': 7,\n",
       " 'ecchi': 9,\n",
       " 'josei': 17,\n",
       " 'ai': 2,\n",
       " 'game': 12,\n",
       " 'dementia': 6,\n",
       " 'harem': 13,\n",
       " 'cars': 4,\n",
       " 'kids': 18,\n",
       " 'hentai': 14,\n",
       " 'yaoi': 45,\n",
       " 'yuri': 46}"
      ]
     },
     "execution_count": 23,
     "metadata": {},
     "output_type": "execute_result"
    }
   ],
   "source": [
    "#checking vocabulary\n",
    "tfidf.vocabulary_"
   ]
  },
  {
   "cell_type": "markdown",
   "id": "9553458f",
   "metadata": {},
   "source": [
    "We have 47 different vocabs/genres for 11993 animes"
   ]
  },
  {
   "cell_type": "code",
   "execution_count": 24,
   "id": "800c0572",
   "metadata": {},
   "outputs": [
    {
     "data": {
      "text/plain": [
       "(11993, 11993)"
      ]
     },
     "execution_count": 24,
     "metadata": {},
     "output_type": "execute_result"
    }
   ],
   "source": [
    "#construct cosine similarity matrix\n",
    "cos_similar = cosine_similarity(tfidf_matrix, tfidf_matrix)\n",
    "cos_similar.shape"
   ]
  },
  {
   "cell_type": "markdown",
   "id": "de948418",
   "metadata": {},
   "source": [
    "Now we have 11993**X**11993 matrix where each genre cosine similarity with every genre. Hence, each anime got similarity score with every anime using genre in the dataset."
   ]
  },
  {
   "cell_type": "markdown",
   "id": "40e1d08d",
   "metadata": {},
   "source": [
    "**6) Anime recommendation system**"
   ]
  },
  {
   "cell_type": "markdown",
   "id": "d636f355",
   "metadata": {},
   "source": [
    "Now, let's define a class that takes anime title as an input and outputs the top 10 most similar anime according to its genre"
   ]
  },
  {
   "cell_type": "code",
   "execution_count": 26,
   "id": "aed83084",
   "metadata": {
    "scrolled": true
   },
   "outputs": [
    {
     "data": {
      "text/plain": [
       "title\n",
       "kimi no na wa                                             0\n",
       "fullmetal alchemist brotherhood                           1\n",
       "gintama                                                   2\n",
       "steinsgate                                                3\n",
       "haikyuu karasuno koukou vs shiratorizawa gakuen koukou    4\n",
       "hunter x hunter (2011)                                    5\n",
       "ginga eiyuu densetsu                                      6\n",
       "gintama movie kanketsuhen  yorozuya yo eien nare          7\n",
       "gintama enchousen                                         8\n",
       "clannad after story                                       9\n",
       "dtype: int64"
      ]
     },
     "execution_count": 26,
     "metadata": {},
     "output_type": "execute_result"
    }
   ],
   "source": [
    "#getting the indices of anime title\n",
    "indices = pd.Series(anime_data.index,index=anime_data['title'])\n",
    "indices[:10]"
   ]
  },
  {
   "cell_type": "code",
   "execution_count": 40,
   "id": "a8fc69f5",
   "metadata": {},
   "outputs": [],
   "source": [
    "class animes():\n",
    "    def __init__(self,cos_sim):\n",
    "        self.cos_sim = cos_similar\n",
    "        \n",
    "    def anime_rec(self,cos_similar=cos_similar):\n",
    "        #get the index of anime that matches the title\n",
    "        title = input('Please enter anime title: ')\n",
    "        anime_idx = indices[title]\n",
    "    \n",
    "        #put the pairwise similarity score in a list\n",
    "        similar_score = list(enumerate(cos_similar[anime_idx]))\n",
    "    \n",
    "        #sort based on similar scores\n",
    "        similar_score = sorted(similar_score,key=lambda x: x[1],reverse=True)\n",
    "    \n",
    "        #get the top 10 similar scores\n",
    "        similar_score = similar_score[1:11]\n",
    "    \n",
    "        #get anime indices\n",
    "        anime_indices = [i[0] for i in similar_score]\n",
    "    \n",
    "        #return top 10 similarity scores\n",
    "        return pd.DataFrame({'Anime title': anime_data['title'].iloc[anime_indices],\n",
    "                                 'Rating': anime_data['avg_rating'].iloc[anime_indices]})"
   ]
  },
  {
   "cell_type": "code",
   "execution_count": 41,
   "id": "d4fabc2f",
   "metadata": {},
   "outputs": [
    {
     "name": "stdout",
     "output_type": "stream",
     "text": [
      "Please enter anime title: haikyuu\n"
     ]
    },
    {
     "data": {
      "text/html": [
       "<div>\n",
       "<style scoped>\n",
       "    .dataframe tbody tr th:only-of-type {\n",
       "        vertical-align: middle;\n",
       "    }\n",
       "\n",
       "    .dataframe tbody tr th {\n",
       "        vertical-align: top;\n",
       "    }\n",
       "\n",
       "    .dataframe thead th {\n",
       "        text-align: right;\n",
       "    }\n",
       "</style>\n",
       "<table border=\"1\" class=\"dataframe\">\n",
       "  <thead>\n",
       "    <tr style=\"text-align: right;\">\n",
       "      <th></th>\n",
       "      <th>Anime title</th>\n",
       "      <th>Rating</th>\n",
       "    </tr>\n",
       "  </thead>\n",
       "  <tbody>\n",
       "    <tr>\n",
       "      <th>12</th>\n",
       "      <td>haikyuu second season</td>\n",
       "      <td>8.93</td>\n",
       "    </tr>\n",
       "    <tr>\n",
       "      <th>41</th>\n",
       "      <td>haikyuu</td>\n",
       "      <td>8.68</td>\n",
       "    </tr>\n",
       "    <tr>\n",
       "      <th>77</th>\n",
       "      <td>slam dunk</td>\n",
       "      <td>8.56</td>\n",
       "    </tr>\n",
       "    <tr>\n",
       "      <th>622</th>\n",
       "      <td>haikyuu movie 1 owari to hajimari</td>\n",
       "      <td>7.94</td>\n",
       "    </tr>\n",
       "    <tr>\n",
       "      <th>846</th>\n",
       "      <td>haikyuu movie 2 shousha to haisha</td>\n",
       "      <td>7.81</td>\n",
       "    </tr>\n",
       "    <tr>\n",
       "      <th>4833</th>\n",
       "      <td>rokudenashi blues</td>\n",
       "      <td>6.62</td>\n",
       "    </tr>\n",
       "    <tr>\n",
       "      <th>8169</th>\n",
       "      <td>batsu and terry</td>\n",
       "      <td>6.19</td>\n",
       "    </tr>\n",
       "    <tr>\n",
       "      <th>4896</th>\n",
       "      <td>rokudenashi blues 1993</td>\n",
       "      <td>6.60</td>\n",
       "    </tr>\n",
       "    <tr>\n",
       "      <th>56</th>\n",
       "      <td>kuroko no basket 3rd season</td>\n",
       "      <td>8.62</td>\n",
       "    </tr>\n",
       "    <tr>\n",
       "      <th>70</th>\n",
       "      <td>kuroko no basket 2nd season</td>\n",
       "      <td>8.58</td>\n",
       "    </tr>\n",
       "  </tbody>\n",
       "</table>\n",
       "</div>"
      ],
      "text/plain": [
       "                            Anime title  Rating\n",
       "12                haikyuu second season    8.93\n",
       "41                              haikyuu    8.68\n",
       "77                            slam dunk    8.56\n",
       "622   haikyuu movie 1 owari to hajimari    7.94\n",
       "846   haikyuu movie 2 shousha to haisha    7.81\n",
       "4833                  rokudenashi blues    6.62\n",
       "8169                    batsu and terry    6.19\n",
       "4896             rokudenashi blues 1993    6.60\n",
       "56          kuroko no basket 3rd season    8.62\n",
       "70          kuroko no basket 2nd season    8.58"
      ]
     },
     "execution_count": 41,
     "metadata": {},
     "output_type": "execute_result"
    }
   ],
   "source": [
    "#example 1\n",
    "animes.anime_rec('haikyuu')"
   ]
  },
  {
   "cell_type": "code",
   "execution_count": 42,
   "id": "1dbd5d7e",
   "metadata": {
    "scrolled": false
   },
   "outputs": [
    {
     "name": "stdout",
     "output_type": "stream",
     "text": [
      "Please enter anime title: gintama\n"
     ]
    },
    {
     "data": {
      "text/html": [
       "<div>\n",
       "<style scoped>\n",
       "    .dataframe tbody tr th:only-of-type {\n",
       "        vertical-align: middle;\n",
       "    }\n",
       "\n",
       "    .dataframe tbody tr th {\n",
       "        vertical-align: top;\n",
       "    }\n",
       "\n",
       "    .dataframe thead th {\n",
       "        text-align: right;\n",
       "    }\n",
       "</style>\n",
       "<table border=\"1\" class=\"dataframe\">\n",
       "  <thead>\n",
       "    <tr style=\"text-align: right;\">\n",
       "      <th></th>\n",
       "      <th>Anime title</th>\n",
       "      <th>Rating</th>\n",
       "    </tr>\n",
       "  </thead>\n",
       "  <tbody>\n",
       "    <tr>\n",
       "      <th>7</th>\n",
       "      <td>gintama movie kanketsuhen  yorozuya yo eien nare</td>\n",
       "      <td>9.10</td>\n",
       "    </tr>\n",
       "    <tr>\n",
       "      <th>8</th>\n",
       "      <td>gintama enchousen</td>\n",
       "      <td>9.11</td>\n",
       "    </tr>\n",
       "    <tr>\n",
       "      <th>61</th>\n",
       "      <td>gintama yorinuki gintamasan on theater 2d</td>\n",
       "      <td>8.60</td>\n",
       "    </tr>\n",
       "    <tr>\n",
       "      <th>63</th>\n",
       "      <td>gintama movie shinyaku benizakurahen</td>\n",
       "      <td>8.59</td>\n",
       "    </tr>\n",
       "    <tr>\n",
       "      <th>214</th>\n",
       "      <td>gintama shinyaku benizakurahen</td>\n",
       "      <td>8.31</td>\n",
       "    </tr>\n",
       "    <tr>\n",
       "      <th>304</th>\n",
       "      <td>gintama jump festa 2014 special</td>\n",
       "      <td>8.20</td>\n",
       "    </tr>\n",
       "    <tr>\n",
       "      <th>378</th>\n",
       "      <td>gintama nanigoto mo saiyo ga kanjin nano de ta...</td>\n",
       "      <td>8.13</td>\n",
       "    </tr>\n",
       "    <tr>\n",
       "      <th>359</th>\n",
       "      <td>gintama jump festa 2015 special</td>\n",
       "      <td>8.15</td>\n",
       "    </tr>\n",
       "    <tr>\n",
       "      <th>1824</th>\n",
       "      <td>peace maker kurogane</td>\n",
       "      <td>7.43</td>\n",
       "    </tr>\n",
       "    <tr>\n",
       "      <th>314</th>\n",
       "      <td>gintama dai hanseikai</td>\n",
       "      <td>8.19</td>\n",
       "    </tr>\n",
       "  </tbody>\n",
       "</table>\n",
       "</div>"
      ],
      "text/plain": [
       "                                            Anime title  Rating\n",
       "7      gintama movie kanketsuhen  yorozuya yo eien nare    9.10\n",
       "8                                     gintama enchousen    9.11\n",
       "61            gintama yorinuki gintamasan on theater 2d    8.60\n",
       "63                 gintama movie shinyaku benizakurahen    8.59\n",
       "214                      gintama shinyaku benizakurahen    8.31\n",
       "304                     gintama jump festa 2014 special    8.20\n",
       "378   gintama nanigoto mo saiyo ga kanjin nano de ta...    8.13\n",
       "359                     gintama jump festa 2015 special    8.15\n",
       "1824                               peace maker kurogane    7.43\n",
       "314                               gintama dai hanseikai    8.19"
      ]
     },
     "execution_count": 42,
     "metadata": {},
     "output_type": "execute_result"
    }
   ],
   "source": [
    "#example 2\n",
    "animes.anime_rec('gintama')"
   ]
  },
  {
   "cell_type": "code",
   "execution_count": 43,
   "id": "05548c24",
   "metadata": {
    "scrolled": true
   },
   "outputs": [
    {
     "name": "stdout",
     "output_type": "stream",
     "text": [
      "Please enter anime title: toradora\n"
     ]
    },
    {
     "data": {
      "text/html": [
       "<div>\n",
       "<style scoped>\n",
       "    .dataframe tbody tr th:only-of-type {\n",
       "        vertical-align: middle;\n",
       "    }\n",
       "\n",
       "    .dataframe tbody tr th {\n",
       "        vertical-align: top;\n",
       "    }\n",
       "\n",
       "    .dataframe thead th {\n",
       "        text-align: right;\n",
       "    }\n",
       "</style>\n",
       "<table border=\"1\" class=\"dataframe\">\n",
       "  <thead>\n",
       "    <tr style=\"text-align: right;\">\n",
       "      <th></th>\n",
       "      <th>Anime title</th>\n",
       "      <th>Rating</th>\n",
       "    </tr>\n",
       "  </thead>\n",
       "  <tbody>\n",
       "    <tr>\n",
       "      <th>668</th>\n",
       "      <td>bokura wa minna kawaisou</td>\n",
       "      <td>7.90</td>\n",
       "    </tr>\n",
       "    <tr>\n",
       "      <th>921</th>\n",
       "      <td>bokura wa minna kawaisou hajimete no</td>\n",
       "      <td>7.76</td>\n",
       "    </tr>\n",
       "    <tr>\n",
       "      <th>1016</th>\n",
       "      <td>toradora ova</td>\n",
       "      <td>7.72</td>\n",
       "    </tr>\n",
       "    <tr>\n",
       "      <th>1242</th>\n",
       "      <td>amagami ss+ plus</td>\n",
       "      <td>7.61</td>\n",
       "    </tr>\n",
       "    <tr>\n",
       "      <th>1310</th>\n",
       "      <td>mikakunin de shinkoukei</td>\n",
       "      <td>7.59</td>\n",
       "    </tr>\n",
       "    <tr>\n",
       "      <th>1342</th>\n",
       "      <td>amagami ss</td>\n",
       "      <td>7.57</td>\n",
       "    </tr>\n",
       "    <tr>\n",
       "      <th>1453</th>\n",
       "      <td>toradora bentou no gokui</td>\n",
       "      <td>7.54</td>\n",
       "    </tr>\n",
       "    <tr>\n",
       "      <th>2720</th>\n",
       "      <td>sora no manimani</td>\n",
       "      <td>7.18</td>\n",
       "    </tr>\n",
       "    <tr>\n",
       "      <th>3651</th>\n",
       "      <td>the kabocha wine</td>\n",
       "      <td>6.92</td>\n",
       "    </tr>\n",
       "    <tr>\n",
       "      <th>4411</th>\n",
       "      <td>tsuyokiss</td>\n",
       "      <td>6.73</td>\n",
       "    </tr>\n",
       "  </tbody>\n",
       "</table>\n",
       "</div>"
      ],
      "text/plain": [
       "                               Anime title  Rating\n",
       "668               bokura wa minna kawaisou    7.90\n",
       "921   bokura wa minna kawaisou hajimete no    7.76\n",
       "1016                          toradora ova    7.72\n",
       "1242                      amagami ss+ plus    7.61\n",
       "1310               mikakunin de shinkoukei    7.59\n",
       "1342                            amagami ss    7.57\n",
       "1453              toradora bentou no gokui    7.54\n",
       "2720                      sora no manimani    7.18\n",
       "3651                      the kabocha wine    6.92\n",
       "4411                             tsuyokiss    6.73"
      ]
     },
     "execution_count": 43,
     "metadata": {},
     "output_type": "execute_result"
    }
   ],
   "source": [
    "animes.anime_rec('toradora')"
   ]
  },
  {
   "cell_type": "code",
   "execution_count": 44,
   "id": "d1c990d1",
   "metadata": {},
   "outputs": [
    {
     "name": "stdout",
     "output_type": "stream",
     "text": [
      "Please enter anime title: steinsgate\n"
     ]
    },
    {
     "data": {
      "text/html": [
       "<div>\n",
       "<style scoped>\n",
       "    .dataframe tbody tr th:only-of-type {\n",
       "        vertical-align: middle;\n",
       "    }\n",
       "\n",
       "    .dataframe tbody tr th {\n",
       "        vertical-align: top;\n",
       "    }\n",
       "\n",
       "    .dataframe thead th {\n",
       "        text-align: right;\n",
       "    }\n",
       "</style>\n",
       "<table border=\"1\" class=\"dataframe\">\n",
       "  <thead>\n",
       "    <tr style=\"text-align: right;\">\n",
       "      <th></th>\n",
       "      <th>Anime title</th>\n",
       "      <th>Rating</th>\n",
       "    </tr>\n",
       "  </thead>\n",
       "  <tbody>\n",
       "    <tr>\n",
       "      <th>57</th>\n",
       "      <td>steinsgate movie fuka ryouiki no déjà vu</td>\n",
       "      <td>8.61</td>\n",
       "    </tr>\n",
       "    <tr>\n",
       "      <th>124</th>\n",
       "      <td>steinsgate oukoubakko no poriomania</td>\n",
       "      <td>8.46</td>\n",
       "    </tr>\n",
       "    <tr>\n",
       "      <th>194</th>\n",
       "      <td>steinsgate kyoukaimenjou no missing link  divi...</td>\n",
       "      <td>8.34</td>\n",
       "    </tr>\n",
       "    <tr>\n",
       "      <th>5108</th>\n",
       "      <td>under the dog</td>\n",
       "      <td>6.55</td>\n",
       "    </tr>\n",
       "    <tr>\n",
       "      <th>5506</th>\n",
       "      <td>loups=garous</td>\n",
       "      <td>6.43</td>\n",
       "    </tr>\n",
       "    <tr>\n",
       "      <th>6867</th>\n",
       "      <td>loups=garous pilot</td>\n",
       "      <td>5.87</td>\n",
       "    </tr>\n",
       "    <tr>\n",
       "      <th>5231</th>\n",
       "      <td>kyoto animation meganehen</td>\n",
       "      <td>6.51</td>\n",
       "    </tr>\n",
       "    <tr>\n",
       "      <th>2508</th>\n",
       "      <td>ibara no ou</td>\n",
       "      <td>7.24</td>\n",
       "    </tr>\n",
       "    <tr>\n",
       "      <th>5436</th>\n",
       "      <td>duan nao</td>\n",
       "      <td>6.42</td>\n",
       "    </tr>\n",
       "    <tr>\n",
       "      <th>5458</th>\n",
       "      <td>arve rezzle kikaijikake no youseitachi</td>\n",
       "      <td>6.44</td>\n",
       "    </tr>\n",
       "  </tbody>\n",
       "</table>\n",
       "</div>"
      ],
      "text/plain": [
       "                                            Anime title  Rating\n",
       "57             steinsgate movie fuka ryouiki no déjà vu    8.61\n",
       "124                 steinsgate oukoubakko no poriomania    8.46\n",
       "194   steinsgate kyoukaimenjou no missing link  divi...    8.34\n",
       "5108                                      under the dog    6.55\n",
       "5506                                       loups=garous    6.43\n",
       "6867                                 loups=garous pilot    5.87\n",
       "5231                          kyoto animation meganehen    6.51\n",
       "2508                                        ibara no ou    7.24\n",
       "5436                                           duan nao    6.42\n",
       "5458             arve rezzle kikaijikake no youseitachi    6.44"
      ]
     },
     "execution_count": 44,
     "metadata": {},
     "output_type": "execute_result"
    }
   ],
   "source": [
    "animes.anime_rec('steingate')"
   ]
  },
  {
   "cell_type": "code",
   "execution_count": 45,
   "id": "e090412c",
   "metadata": {},
   "outputs": [
    {
     "name": "stdout",
     "output_type": "stream",
     "text": [
      "Please enter anime title: naruto\n"
     ]
    },
    {
     "data": {
      "text/html": [
       "<div>\n",
       "<style scoped>\n",
       "    .dataframe tbody tr th:only-of-type {\n",
       "        vertical-align: middle;\n",
       "    }\n",
       "\n",
       "    .dataframe tbody tr th {\n",
       "        vertical-align: top;\n",
       "    }\n",
       "\n",
       "    .dataframe thead th {\n",
       "        text-align: right;\n",
       "    }\n",
       "</style>\n",
       "<table border=\"1\" class=\"dataframe\">\n",
       "  <thead>\n",
       "    <tr style=\"text-align: right;\">\n",
       "      <th></th>\n",
       "      <th>Anime title</th>\n",
       "      <th>Rating</th>\n",
       "    </tr>\n",
       "  </thead>\n",
       "  <tbody>\n",
       "    <tr>\n",
       "      <th>612</th>\n",
       "      <td>naruto shippuuden</td>\n",
       "      <td>7.94</td>\n",
       "    </tr>\n",
       "    <tr>\n",
       "      <th>836</th>\n",
       "      <td>naruto</td>\n",
       "      <td>7.81</td>\n",
       "    </tr>\n",
       "    <tr>\n",
       "      <th>1097</th>\n",
       "      <td>boruto naruto the movie  naruto ga hokage ni n...</td>\n",
       "      <td>7.68</td>\n",
       "    </tr>\n",
       "    <tr>\n",
       "      <th>1337</th>\n",
       "      <td>naruto x ut</td>\n",
       "      <td>7.58</td>\n",
       "    </tr>\n",
       "    <tr>\n",
       "      <th>1465</th>\n",
       "      <td>naruto shippuuden movie 4  the lost tower</td>\n",
       "      <td>7.53</td>\n",
       "    </tr>\n",
       "    <tr>\n",
       "      <th>1566</th>\n",
       "      <td>naruto shippuuden movie 3  hi no ishi wo tsugu...</td>\n",
       "      <td>7.50</td>\n",
       "    </tr>\n",
       "    <tr>\n",
       "      <th>2448</th>\n",
       "      <td>naruto shippuuden sunny side battle</td>\n",
       "      <td>7.26</td>\n",
       "    </tr>\n",
       "    <tr>\n",
       "      <th>2982</th>\n",
       "      <td>naruto soyokazeden movie naruto to mashin to m...</td>\n",
       "      <td>7.11</td>\n",
       "    </tr>\n",
       "    <tr>\n",
       "      <th>7598</th>\n",
       "      <td>kyutai panic adventure</td>\n",
       "      <td>5.21</td>\n",
       "    </tr>\n",
       "    <tr>\n",
       "      <th>780</th>\n",
       "      <td>naruto shippuuden movie 6  road to ninja</td>\n",
       "      <td>7.84</td>\n",
       "    </tr>\n",
       "  </tbody>\n",
       "</table>\n",
       "</div>"
      ],
      "text/plain": [
       "                                            Anime title  Rating\n",
       "612                                   naruto shippuuden    7.94\n",
       "836                                              naruto    7.81\n",
       "1097  boruto naruto the movie  naruto ga hokage ni n...    7.68\n",
       "1337                                        naruto x ut    7.58\n",
       "1465          naruto shippuuden movie 4  the lost tower    7.53\n",
       "1566  naruto shippuuden movie 3  hi no ishi wo tsugu...    7.50\n",
       "2448                naruto shippuuden sunny side battle    7.26\n",
       "2982  naruto soyokazeden movie naruto to mashin to m...    7.11\n",
       "7598                             kyutai panic adventure    5.21\n",
       "780            naruto shippuuden movie 6  road to ninja    7.84"
      ]
     },
     "execution_count": 45,
     "metadata": {},
     "output_type": "execute_result"
    }
   ],
   "source": [
    "animes.anime_rec('naruto')"
   ]
  },
  {
   "cell_type": "markdown",
   "id": "1ce36e52",
   "metadata": {},
   "source": [
    "**CONCLUSION**\n",
    "\n",
    "My previous anime recommendation system (Final_project) is not 100% accurate where the function worked for some animes but returned inaccurate for some animes. But after changing function with class, it worked perfectly and we can see from the examples above. \n",
    "\n",
    "Basically, content-based recommender would outputs the most similar animes (or anything) according to user's input, the general idea behind these recommender systems is that if a person likes a particular item, he or she will also like an item that is similar to it. An example of a good content-based recommender would be Youtube."
   ]
  },
  {
   "cell_type": "markdown",
   "id": "b96e3e1d",
   "metadata": {},
   "source": [
    "**REFFERENCE**\n",
    "\n",
    "1) https://www.kaggle.com/lavanyaanandm/recommending-anime-s-using-all-recommendation-sys\n",
    "\n",
    "2)https://medium.com/analytics-vidhya/anime-recommendation-engine-content-collaborative-filtering-c6e69be29d29\n",
    "\n",
    "3)https://www.datacamp.com/community/tutorials/recommender-systems-python\n",
    "\n",
    "4)https://www.machinelearningplus.com/nlp/cosine-similarity/"
   ]
  }
 ],
 "metadata": {
  "kernelspec": {
   "display_name": "Python 3",
   "language": "python",
   "name": "python3"
  },
  "language_info": {
   "codemirror_mode": {
    "name": "ipython",
    "version": 3
   },
   "file_extension": ".py",
   "mimetype": "text/x-python",
   "name": "python",
   "nbconvert_exporter": "python",
   "pygments_lexer": "ipython3",
   "version": "3.8.8"
  }
 },
 "nbformat": 4,
 "nbformat_minor": 5
}
