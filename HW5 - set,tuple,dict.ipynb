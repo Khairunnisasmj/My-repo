{
 "cells": [
  {
   "cell_type": "code",
   "execution_count": 6,
   "id": "2ae223ed",
   "metadata": {},
   "outputs": [
    {
     "name": "stdout",
     "output_type": "stream",
     "text": [
      "Here are my favorite romance movies:\n",
      "\n",
      "The Princess Bride ( 1987 ) : The story of a man and a woman who lived happily ever after.\n",
      "\n",
      "Groundhog Day ( 1993 ) : He's having the day of his life...over and over again.\n",
      "\n",
      "Amélie ( 2001 ) : One person can change your life forever.\n"
     ]
    }
   ],
   "source": [
    "#problem1 I LOVE YOU,TUPLE\n",
    "# My favorite romance movies\n",
    "# title, release year, runtime, tagline, main characters\n",
    "romantic_movie1 = (\"The Princess Bride\", 1987, 98, \"The story of a man and a woman who lived happily ever after.\", [\"Buttercup\", \"Westley\", \"Fezzik\", \"Inigo Montoya\",\n",
    "\"Vizzini\"])\n",
    "romantic_movie2 = (\"Groundhog Day\", 1993, 101, \"He's having the day of his life...over and over again.\", [\"Phil Connors\"])\n",
    "romantic_movie3 = (\"Amélie\", 2001, 122, \"One person can change your life forever.\",\n",
    "[\"Amélie Poulain\", \"Nino Quincampoix\", \"The Garden Gnome\"])\n",
    "                   \n",
    "print(\"Here are my favorite romance movies:\")\n",
    "print(\"\")\n",
    "print(romantic_movie1[0],\"(\",romantic_movie1[1],\")\",\":\",romantic_movie1[3])\n",
    "print(\"\")\n",
    "print(romantic_movie2[0],\"(\",romantic_movie2[1],\")\",\":\",romantic_movie2[3])\n",
    "print(\"\")\n",
    "print(romantic_movie3[0],\"(\",romantic_movie3[1],\")\",\":\",romantic_movie3[3])"
   ]
  },
  {
   "cell_type": "code",
   "execution_count": 2,
   "id": "ebe199c8",
   "metadata": {},
   "outputs": [
    {
     "name": "stdout",
     "output_type": "stream",
     "text": [
      "Ron Swanson in Management can be reached at 555-1234 .\n",
      "Leslie Knope in Middle Management can be reached at 555-4321 .\n",
      "Andy Dwyer in Shoe Shining can be reached at 555-1122 .\n",
      "April Ludgate in Administration can be reached at 555-3345 .\n"
     ]
    }
   ],
   "source": [
    "#problem2 FRIENDS,COLLEAGUES,DETAILS\n",
    "employees = [{\"name\":\"Ron Swanson\",\"age\":55,\"department\":\"Management\",\"phone\":\"555-1234\",\"salary\":\"2,000\"},\n",
    "             {\"name\":\"Leslie Knope\",\"age\":23,\"department\":\"Middle Management\",\"phone\":\"555-4321\",\"salary\":\"1,800\"},\n",
    "             {\"name\":\"Andy Dwyer\",\"age\":37,\"department\":\"Shoe Shining\",\"phone\":\"555-1122\",\"salary\":\"1,800\"},\n",
    "             {\"name\":\"April Ludgate\",\"age\":42,\"department\":\"Administration\",\"phone\":\"555-3345\",\"salary\":\"2,000\"}]\n",
    "for details in employees:\n",
    "    print(details[\"name\"],\"in\",details[\"department\"],\"can be reached at\",details[\"phone\"],\".\")"
   ]
  },
  {
   "cell_type": "code",
   "execution_count": null,
   "id": "c2377a15",
   "metadata": {},
   "outputs": [],
   "source": []
  }
 ],
 "metadata": {
  "kernelspec": {
   "display_name": "Python 3",
   "language": "python",
   "name": "python3"
  },
  "language_info": {
   "codemirror_mode": {
    "name": "ipython",
    "version": 3
   },
   "file_extension": ".py",
   "mimetype": "text/x-python",
   "name": "python",
   "nbconvert_exporter": "python",
   "pygments_lexer": "ipython3",
   "version": "3.8.8"
  }
 },
 "nbformat": 4,
 "nbformat_minor": 5
}
